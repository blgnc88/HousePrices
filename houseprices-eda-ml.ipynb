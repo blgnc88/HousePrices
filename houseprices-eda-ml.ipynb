{
 "cells": [
  {
   "cell_type": "code",
   "execution_count": 1,
   "id": "9afd64c1",
   "metadata": {
    "_cell_guid": "bc410a6b-f25f-4e8c-bcfe-c2bc8f671f61",
    "_uuid": "0cc6ac27-e2a9-48cb-b8c6-2db55cb40e1c",
    "collapsed": false,
    "execution": {
     "iopub.execute_input": "2022-11-21T21:41:34.776856Z",
     "iopub.status.busy": "2022-11-21T21:41:34.776117Z",
     "iopub.status.idle": "2022-11-21T21:41:37.179361Z",
     "shell.execute_reply": "2022-11-21T21:41:37.178373Z"
    },
    "jupyter": {
     "outputs_hidden": false
    },
    "papermill": {
     "duration": 2.423762,
     "end_time": "2022-11-21T21:41:37.182275",
     "exception": false,
     "start_time": "2022-11-21T21:41:34.758513",
     "status": "completed"
    },
    "tags": []
   },
   "outputs": [
    {
     "data": {
      "text/html": [
       "<style type='text/css'>\n",
       ".datatable table.frame { margin-bottom: 0; }\n",
       ".datatable table.frame thead { border-bottom: none; }\n",
       ".datatable table.frame tr.coltypes td {  color: #FFFFFF;  line-height: 6px;  padding: 0 0.5em;}\n",
       ".datatable .bool    { background: #DDDD99; }\n",
       ".datatable .object  { background: #565656; }\n",
       ".datatable .int     { background: #5D9E5D; }\n",
       ".datatable .float   { background: #4040CC; }\n",
       ".datatable .str     { background: #CC4040; }\n",
       ".datatable .time    { background: #40CC40; }\n",
       ".datatable .row_index {  background: var(--jp-border-color3);  border-right: 1px solid var(--jp-border-color0);  color: var(--jp-ui-font-color3);  font-size: 9px;}\n",
       ".datatable .frame tbody td { text-align: left; }\n",
       ".datatable .frame tr.coltypes .row_index {  background: var(--jp-border-color0);}\n",
       ".datatable th:nth-child(2) { padding-left: 12px; }\n",
       ".datatable .hellipsis {  color: var(--jp-cell-editor-border-color);}\n",
       ".datatable .vellipsis {  background: var(--jp-layout-color0);  color: var(--jp-cell-editor-border-color);}\n",
       ".datatable .na {  color: var(--jp-cell-editor-border-color);  font-size: 80%;}\n",
       ".datatable .sp {  opacity: 0.25;}\n",
       ".datatable .footer { font-size: 9px; }\n",
       ".datatable .frame_dimensions {  background: var(--jp-border-color3);  border-top: 1px solid var(--jp-border-color0);  color: var(--jp-ui-font-color3);  display: inline-block;  opacity: 0.6;  padding: 1px 10px 1px 5px;}\n",
       "</style>\n"
      ],
      "text/plain": [
       "<IPython.core.display.HTML object>"
      ]
     },
     "metadata": {},
     "output_type": "display_data"
    }
   ],
   "source": [
    "import joblib\n",
    "import pandas as pd\n",
    "import numpy as np\n",
    "import seaborn as sns\n",
    "from matplotlib import pyplot as plt\n",
    "from sklearn.preprocessing import RobustScaler\n",
    "from sklearn.linear_model import LinearRegression, Ridge, Lasso, ElasticNet\n",
    "from sklearn.svm import SVR\n",
    "from sklearn.neighbors import KNeighborsRegressor\n",
    "from sklearn.tree import DecisionTreeRegressor\n",
    "from sklearn.ensemble import RandomForestRegressor, GradientBoostingRegressor, VotingRegressor\n",
    "from xgboost import XGBRegressor\n",
    "from lightgbm import LGBMRegressor\n",
    "from catboost import CatBoostRegressor\n",
    "from sklearn.metrics import mean_squared_error\n",
    "from sklearn.model_selection import GridSearchCV, cross_val_score, cross_validate\n",
    "from sklearn.linear_model import LinearRegression\n",
    "from sklearn.preprocessing import StandardScaler\n",
    "from sklearn.model_selection import cross_validate, GridSearchCV\n",
    "import warnings\n",
    "warnings.filterwarnings('ignore')\n",
    "pd.set_option('display.max_rows', None)\n",
    "pd.set_option('display.max_columns', None)\n",
    "pd.set_option('display.width', 170)\n",
    "pd.set_option('display.float_format', lambda x: '%.3f' % x)"
   ]
  },
  {
   "cell_type": "markdown",
   "id": "9c465d05",
   "metadata": {
    "papermill": {
     "duration": 0.014572,
     "end_time": "2022-11-21T21:41:37.210269",
     "exception": false,
     "start_time": "2022-11-21T21:41:37.195697",
     "status": "completed"
    },
    "tags": []
   },
   "source": [
    "**FUNCTIONS USED IN THIS DATASET**"
   ]
  },
  {
   "cell_type": "code",
   "execution_count": 2,
   "id": "6d89b80b",
   "metadata": {
    "execution": {
     "iopub.execute_input": "2022-11-21T21:41:37.239741Z",
     "iopub.status.busy": "2022-11-21T21:41:37.239347Z",
     "iopub.status.idle": "2022-11-21T21:41:37.268134Z",
     "shell.execute_reply": "2022-11-21T21:41:37.266725Z"
    },
    "papermill": {
     "duration": 0.046363,
     "end_time": "2022-11-21T21:41:37.270473",
     "exception": false,
     "start_time": "2022-11-21T21:41:37.224110",
     "status": "completed"
    },
    "tags": []
   },
   "outputs": [],
   "source": [
    "\n",
    "def missing_values_table(dataframe, na_name=False):\n",
    "    na_columns = [col for col in dataframe.columns if dataframe[col].isnull().sum() > 0]\n",
    "\n",
    "    n_miss = dataframe[na_columns].isnull().sum().sort_values(ascending=False)\n",
    "    ratio = (dataframe[na_columns].isnull().sum() / dataframe.shape[0] * 100).sort_values(ascending=False)\n",
    "    missing_df = pd.concat([n_miss, np.round(ratio, 2)], axis=1, keys=['n_miss', 'ratio'])\n",
    "    print(missing_df, end=\"\\n\")\n",
    "\n",
    "    if na_name:\n",
    "        return na_columns\n",
    "    \n",
    "def grab_col_names(dataframe, cat_th=10, car_th=20):\n",
    "    # cat_cols, cat_but_car\n",
    "    cat_cols = [col for col in dataframe.columns if dataframe[col].dtypes == \"O\"]\n",
    "    num_but_cat = [col for col in dataframe.columns if dataframe[col].nunique() < cat_th and\n",
    "                   dataframe[col].dtypes != \"O\"]\n",
    "    cat_but_car = [col for col in dataframe.columns if dataframe[col].nunique() > car_th and\n",
    "                   dataframe[col].dtypes == \"O\"]\n",
    "    cat_cols = cat_cols + num_but_cat\n",
    "    cat_cols = [col for col in cat_cols if col not in cat_but_car]\n",
    "\n",
    "    # num_cols\n",
    "    num_cols = [col for col in dataframe.columns if dataframe[col].dtypes != \"O\"]\n",
    "    num_cols = [col for col in num_cols if col not in num_but_cat]\n",
    "\n",
    "    print(f\"Observations: {dataframe.shape[0]}\")\n",
    "    print(f\"Variables: {dataframe.shape[1]}\")\n",
    "    print(f'cat_cols: {len(cat_cols)}')\n",
    "    print(f'num_cols: {len(num_cols)}')\n",
    "    print(f'cat_but_car: {len(cat_but_car)}')\n",
    "    print(f'num_but_cat: {len(num_but_cat)}')\n",
    "    return cat_cols, num_cols, cat_but_car\n",
    "\n",
    "def target_summary_with_cat(dataframe, target, categorical_col, cat_col_v2):\n",
    "\n",
    "    print(pd.DataFrame({\"TARGET_MEAN\": dataframe.groupby([categorical_col, cat_col_v2])[target].mean(),\n",
    "                        \"TARGET_COUNT\": dataframe.groupby([categorical_col, cat_col_v2])[target].count()}), end=\"\\n\\n\\n\")\n",
    "def target_summary_with_num(dataframe, target, numerical_col):\n",
    "    print(dataframe.groupby(target).agg({numerical_col: \"mean\"}), end=\"\\n\\n\\n\")\n",
    "    \n",
    "def correlation_matrix(df, cols):\n",
    "    fig = plt.gcf()\n",
    "    fig.set_size_inches(20, 16)\n",
    "    plt.xticks(fontsize=10)\n",
    "    plt.yticks(fontsize=10)\n",
    "    fig = sns.heatmap(df[cols].corr(), annot=True, linewidths=0.5, annot_kws={'size': 12}, linecolor='w', cmap='RdBu')\n",
    "    plt.show(block=True)\n",
    "    \n",
    "def high_correlated_cols(dataframe, corr_th=0.80):\n",
    "    corr = dataframe.corr()\n",
    "    cor_matrix = corr.abs()\n",
    "    upper_triangle_matrix = cor_matrix.where(np.triu(np.ones(cor_matrix.shape), k=1).astype(np.bool))\n",
    "    drop_list = [col for col in upper_triangle_matrix.columns if any(upper_triangle_matrix[col] > corr_th)]\n",
    "    return drop_list\n",
    "\n",
    "def outlier_thresholds(dataframe, col_name, q1=0.25, q3=0.95):\n",
    "    quartile1 = dataframe[col_name].quantile(q1)\n",
    "    quartile3 = dataframe[col_name].quantile(q3)\n",
    "    interquantile_range = quartile3 - quartile1\n",
    "    up_limit = quartile3 + 1.5 * interquantile_range\n",
    "    low_limit = quartile1 - 1.5 * interquantile_range\n",
    "    return low_limit, up_limit\n",
    "def check_outlier(dataframe, col_name):\n",
    "    low_limit, up_limit = outlier_thresholds(dataframe, col_name)\n",
    "    if dataframe[(dataframe[col_name] > up_limit) | (dataframe[col_name] < low_limit)].any(axis=None):\n",
    "        return True\n",
    "    else:\n",
    "        return False\n",
    "    \n",
    "def replace_with_thresholds(dataframe, variable):\n",
    "    low_limit, up_limit = outlier_thresholds(dataframe, variable)\n",
    "    dataframe.loc[(dataframe[variable] < low_limit), variable] = low_limit\n",
    "    dataframe.loc[(dataframe[variable] > up_limit), variable] = up_limit\n",
    "\n",
    "def one_hot_encoder(dataframe, categorical_cols, drop_first=True):\n",
    "    dataframe = pd.get_dummies(dataframe, columns=categorical_cols, drop_first=drop_first)\n",
    "    return dataframe\n",
    "def hyperparameter_optimization(X, y):\n",
    "    print(\"Hyperparameter Optimization....\")\n",
    "    best_models = {}\n",
    "    for name, regressor, params in regressors:\n",
    "        print(f\"########## {name} ##########\")\n",
    "        rmse = np.mean(np.sqrt(-cross_val_score(regressor, X, y, cv=12, scoring=\"neg_mean_squared_error\")))\n",
    "        print(f\"RMSE: {round(rmse, 6)} ({name}) \")\n",
    "\n",
    "        gs_best = GridSearchCV(regressor, params, cv=3, n_jobs=-1, verbose=False).fit(X, y)\n",
    "        final_model = regressor.set_params(**gs_best.best_params_)\n",
    "        rmse = np.mean(np.sqrt(-cross_val_score(final_model, X, y, cv=12, scoring=\"neg_mean_squared_error\")))\n",
    "        print(f\"RMSE (After): {round(rmse, 6)} ({name}) \")\n",
    "        print(f\"{name} best params: {gs_best.best_params_}\", end=\"\\n\\n\")\n",
    "        best_models[name] = final_model\n",
    "    return best_models\n"
   ]
  },
  {
   "cell_type": "code",
   "execution_count": 3,
   "id": "a2f350f2",
   "metadata": {
    "_cell_guid": "6d2d58af-c2ad-4130-8076-a68e5e8d1eb3",
    "_uuid": "6672b82a-5168-4e4d-94af-92e90291bcf2",
    "collapsed": false,
    "execution": {
     "iopub.execute_input": "2022-11-21T21:41:37.299172Z",
     "iopub.status.busy": "2022-11-21T21:41:37.298722Z",
     "iopub.status.idle": "2022-11-21T21:41:37.337888Z",
     "shell.execute_reply": "2022-11-21T21:41:37.336843Z"
    },
    "jupyter": {
     "outputs_hidden": false
    },
    "papermill": {
     "duration": 0.05646,
     "end_time": "2022-11-21T21:41:37.340567",
     "exception": false,
     "start_time": "2022-11-21T21:41:37.284107",
     "status": "completed"
    },
    "tags": []
   },
   "outputs": [],
   "source": [
    "df = pd.read_csv('../input/house-prices-advanced-regression-techniques/train.csv')"
   ]
  },
  {
   "cell_type": "markdown",
   "id": "e4bf0955",
   "metadata": {
    "_cell_guid": "6398b4ea-653c-4616-a62b-59a0802340a3",
    "_uuid": "ea9f0d0c-a42f-4cc8-89ee-573fa91a5da4",
    "papermill": {
     "duration": 0.013018,
     "end_time": "2022-11-21T21:41:37.367278",
     "exception": false,
     "start_time": "2022-11-21T21:41:37.354260",
     "status": "completed"
    },
    "tags": []
   },
   "source": [
    "overlook the data with basic commands:"
   ]
  },
  {
   "cell_type": "code",
   "execution_count": 4,
   "id": "abdf7877",
   "metadata": {
    "_cell_guid": "3868b65f-2b5f-4876-b4a9-6def06c0793f",
    "_uuid": "ec13314f-8aa9-42eb-977a-18a8524dbf21",
    "collapsed": false,
    "execution": {
     "iopub.execute_input": "2022-11-21T21:41:37.395328Z",
     "iopub.status.busy": "2022-11-21T21:41:37.394550Z",
     "iopub.status.idle": "2022-11-21T21:41:37.402811Z",
     "shell.execute_reply": "2022-11-21T21:41:37.401742Z"
    },
    "jupyter": {
     "outputs_hidden": false
    },
    "papermill": {
     "duration": 0.025102,
     "end_time": "2022-11-21T21:41:37.405401",
     "exception": false,
     "start_time": "2022-11-21T21:41:37.380299",
     "status": "completed"
    },
    "tags": []
   },
   "outputs": [
    {
     "name": "stdout",
     "output_type": "stream",
     "text": [
      "SHAPE :\n",
      "\n",
      "(1460, 81) \n",
      "\n",
      "TYPES  :\n",
      "\n",
      "Id                 int64\n",
      "MSSubClass         int64\n",
      "MSZoning          object\n",
      "LotFrontage      float64\n",
      "LotArea            int64\n",
      "Street            object\n",
      "Alley             object\n",
      "LotShape          object\n",
      "LandContour       object\n",
      "Utilities         object\n",
      "LotConfig         object\n",
      "LandSlope         object\n",
      "Neighborhood      object\n",
      "Condition1        object\n",
      "Condition2        object\n",
      "BldgType          object\n",
      "HouseStyle        object\n",
      "OverallQual        int64\n",
      "OverallCond        int64\n",
      "YearBuilt          int64\n",
      "YearRemodAdd       int64\n",
      "RoofStyle         object\n",
      "RoofMatl          object\n",
      "Exterior1st       object\n",
      "Exterior2nd       object\n",
      "MasVnrType        object\n",
      "MasVnrArea       float64\n",
      "ExterQual         object\n",
      "ExterCond         object\n",
      "Foundation        object\n",
      "BsmtQual          object\n",
      "BsmtCond          object\n",
      "BsmtExposure      object\n",
      "BsmtFinType1      object\n",
      "BsmtFinSF1         int64\n",
      "BsmtFinType2      object\n",
      "BsmtFinSF2         int64\n",
      "BsmtUnfSF          int64\n",
      "TotalBsmtSF        int64\n",
      "Heating           object\n",
      "HeatingQC         object\n",
      "CentralAir        object\n",
      "Electrical        object\n",
      "1stFlrSF           int64\n",
      "2ndFlrSF           int64\n",
      "LowQualFinSF       int64\n",
      "GrLivArea          int64\n",
      "BsmtFullBath       int64\n",
      "BsmtHalfBath       int64\n",
      "FullBath           int64\n",
      "HalfBath           int64\n",
      "BedroomAbvGr       int64\n",
      "KitchenAbvGr       int64\n",
      "KitchenQual       object\n",
      "TotRmsAbvGrd       int64\n",
      "Functional        object\n",
      "Fireplaces         int64\n",
      "FireplaceQu       object\n",
      "GarageType        object\n",
      "GarageYrBlt      float64\n",
      "GarageFinish      object\n",
      "GarageCars         int64\n",
      "GarageArea         int64\n",
      "GarageQual        object\n",
      "GarageCond        object\n",
      "PavedDrive        object\n",
      "WoodDeckSF         int64\n",
      "OpenPorchSF        int64\n",
      "EnclosedPorch      int64\n",
      "3SsnPorch          int64\n",
      "ScreenPorch        int64\n",
      "PoolArea           int64\n",
      "PoolQC            object\n",
      "Fence             object\n",
      "MiscFeature       object\n",
      "MiscVal            int64\n",
      "MoSold             int64\n",
      "YrSold             int64\n",
      "SaleType          object\n",
      "SaleCondition     object\n",
      "SalePrice          int64\n",
      "dtype: object\n"
     ]
    }
   ],
   "source": [
    "print('SHAPE :\\n')\n",
    "print(df.shape ,'\\n')\n",
    "print('TYPES  :\\n')\n",
    "print(df.dtypes) "
   ]
  },
  {
   "cell_type": "code",
   "execution_count": 5,
   "id": "fc0e8748",
   "metadata": {
    "execution": {
     "iopub.execute_input": "2022-11-21T21:41:37.433810Z",
     "iopub.status.busy": "2022-11-21T21:41:37.433394Z",
     "iopub.status.idle": "2022-11-21T21:41:37.485302Z",
     "shell.execute_reply": "2022-11-21T21:41:37.484099Z"
    },
    "papermill": {
     "duration": 0.069272,
     "end_time": "2022-11-21T21:41:37.488302",
     "exception": false,
     "start_time": "2022-11-21T21:41:37.419030",
     "status": "completed"
    },
    "tags": []
   },
   "outputs": [
    {
     "name": "stdout",
     "output_type": "stream",
     "text": [
      "HEAD   :\n",
      "\n",
      "   Id  MSSubClass MSZoning  LotFrontage  LotArea Street Alley LotShape LandContour Utilities LotConfig LandSlope Neighborhood Condition1 Condition2 BldgType HouseStyle  \\\n",
      "0   1          60       RL       65.000     8450   Pave   NaN      Reg         Lvl    AllPub    Inside       Gtl      CollgCr       Norm       Norm     1Fam     2Story   \n",
      "1   2          20       RL       80.000     9600   Pave   NaN      Reg         Lvl    AllPub       FR2       Gtl      Veenker      Feedr       Norm     1Fam     1Story   \n",
      "2   3          60       RL       68.000    11250   Pave   NaN      IR1         Lvl    AllPub    Inside       Gtl      CollgCr       Norm       Norm     1Fam     2Story   \n",
      "3   4          70       RL       60.000     9550   Pave   NaN      IR1         Lvl    AllPub    Corner       Gtl      Crawfor       Norm       Norm     1Fam     2Story   \n",
      "4   5          60       RL       84.000    14260   Pave   NaN      IR1         Lvl    AllPub       FR2       Gtl      NoRidge       Norm       Norm     1Fam     2Story   \n",
      "\n",
      "   OverallQual  OverallCond  YearBuilt  YearRemodAdd RoofStyle RoofMatl Exterior1st Exterior2nd MasVnrType  MasVnrArea ExterQual ExterCond Foundation BsmtQual BsmtCond  \\\n",
      "0            7            5       2003          2003     Gable  CompShg     VinylSd     VinylSd    BrkFace     196.000        Gd        TA      PConc       Gd       TA   \n",
      "1            6            8       1976          1976     Gable  CompShg     MetalSd     MetalSd       None       0.000        TA        TA     CBlock       Gd       TA   \n",
      "2            7            5       2001          2002     Gable  CompShg     VinylSd     VinylSd    BrkFace     162.000        Gd        TA      PConc       Gd       TA   \n",
      "3            7            5       1915          1970     Gable  CompShg     Wd Sdng     Wd Shng       None       0.000        TA        TA     BrkTil       TA       Gd   \n",
      "4            8            5       2000          2000     Gable  CompShg     VinylSd     VinylSd    BrkFace     350.000        Gd        TA      PConc       Gd       TA   \n",
      "\n",
      "  BsmtExposure BsmtFinType1  BsmtFinSF1 BsmtFinType2  BsmtFinSF2  BsmtUnfSF  TotalBsmtSF Heating HeatingQC CentralAir Electrical  1stFlrSF  2ndFlrSF  LowQualFinSF  \\\n",
      "0           No          GLQ         706          Unf           0        150          856    GasA        Ex          Y      SBrkr       856       854             0   \n",
      "1           Gd          ALQ         978          Unf           0        284         1262    GasA        Ex          Y      SBrkr      1262         0             0   \n",
      "2           Mn          GLQ         486          Unf           0        434          920    GasA        Ex          Y      SBrkr       920       866             0   \n",
      "3           No          ALQ         216          Unf           0        540          756    GasA        Gd          Y      SBrkr       961       756             0   \n",
      "4           Av          GLQ         655          Unf           0        490         1145    GasA        Ex          Y      SBrkr      1145      1053             0   \n",
      "\n",
      "   GrLivArea  BsmtFullBath  BsmtHalfBath  FullBath  HalfBath  BedroomAbvGr  KitchenAbvGr KitchenQual  TotRmsAbvGrd Functional  Fireplaces FireplaceQu GarageType  \\\n",
      "0       1710             1             0         2         1             3             1          Gd             8        Typ           0         NaN     Attchd   \n",
      "1       1262             0             1         2         0             3             1          TA             6        Typ           1          TA     Attchd   \n",
      "2       1786             1             0         2         1             3             1          Gd             6        Typ           1          TA     Attchd   \n",
      "3       1717             1             0         1         0             3             1          Gd             7        Typ           1          Gd     Detchd   \n",
      "4       2198             1             0         2         1             4             1          Gd             9        Typ           1          TA     Attchd   \n",
      "\n",
      "   GarageYrBlt GarageFinish  GarageCars  GarageArea GarageQual GarageCond PavedDrive  WoodDeckSF  OpenPorchSF  EnclosedPorch  3SsnPorch  ScreenPorch  PoolArea PoolQC  \\\n",
      "0     2003.000          RFn           2         548         TA         TA          Y           0           61              0          0            0         0    NaN   \n",
      "1     1976.000          RFn           2         460         TA         TA          Y         298            0              0          0            0         0    NaN   \n",
      "2     2001.000          RFn           2         608         TA         TA          Y           0           42              0          0            0         0    NaN   \n",
      "3     1998.000          Unf           3         642         TA         TA          Y           0           35            272          0            0         0    NaN   \n",
      "4     2000.000          RFn           3         836         TA         TA          Y         192           84              0          0            0         0    NaN   \n",
      "\n",
      "  Fence MiscFeature  MiscVal  MoSold  YrSold SaleType SaleCondition  SalePrice  \n",
      "0   NaN         NaN        0       2    2008       WD        Normal     208500  \n",
      "1   NaN         NaN        0       5    2007       WD        Normal     181500  \n",
      "2   NaN         NaN        0       9    2008       WD        Normal     223500  \n",
      "3   NaN         NaN        0       2    2006       WD       Abnorml     140000  \n",
      "4   NaN         NaN        0      12    2008       WD        Normal     250000   \n",
      "\n",
      "TAIL   :\n",
      "\n",
      "        Id  MSSubClass MSZoning  LotFrontage  LotArea Street Alley LotShape LandContour Utilities LotConfig LandSlope Neighborhood Condition1 Condition2 BldgType  \\\n",
      "1455  1456          60       RL       62.000     7917   Pave   NaN      Reg         Lvl    AllPub    Inside       Gtl      Gilbert       Norm       Norm     1Fam   \n",
      "1456  1457          20       RL       85.000    13175   Pave   NaN      Reg         Lvl    AllPub    Inside       Gtl       NWAmes       Norm       Norm     1Fam   \n",
      "1457  1458          70       RL       66.000     9042   Pave   NaN      Reg         Lvl    AllPub    Inside       Gtl      Crawfor       Norm       Norm     1Fam   \n",
      "1458  1459          20       RL       68.000     9717   Pave   NaN      Reg         Lvl    AllPub    Inside       Gtl        NAmes       Norm       Norm     1Fam   \n",
      "1459  1460          20       RL       75.000     9937   Pave   NaN      Reg         Lvl    AllPub    Inside       Gtl      Edwards       Norm       Norm     1Fam   \n",
      "\n",
      "     HouseStyle  OverallQual  OverallCond  YearBuilt  YearRemodAdd RoofStyle RoofMatl Exterior1st Exterior2nd MasVnrType  MasVnrArea ExterQual ExterCond Foundation  \\\n",
      "1455     2Story            6            5       1999          2000     Gable  CompShg     VinylSd     VinylSd       None       0.000        TA        TA      PConc   \n",
      "1456     1Story            6            6       1978          1988     Gable  CompShg     Plywood     Plywood      Stone     119.000        TA        TA     CBlock   \n",
      "1457     2Story            7            9       1941          2006     Gable  CompShg     CemntBd     CmentBd       None       0.000        Ex        Gd      Stone   \n",
      "1458     1Story            5            6       1950          1996       Hip  CompShg     MetalSd     MetalSd       None       0.000        TA        TA     CBlock   \n",
      "1459     1Story            5            6       1965          1965     Gable  CompShg     HdBoard     HdBoard       None       0.000        Gd        TA     CBlock   \n",
      "\n",
      "     BsmtQual BsmtCond BsmtExposure BsmtFinType1  BsmtFinSF1 BsmtFinType2  BsmtFinSF2  BsmtUnfSF  TotalBsmtSF Heating HeatingQC CentralAir Electrical  1stFlrSF  \\\n",
      "1455       Gd       TA           No          Unf           0          Unf           0        953          953    GasA        Ex          Y      SBrkr       953   \n",
      "1456       Gd       TA           No          ALQ         790          Rec         163        589         1542    GasA        TA          Y      SBrkr      2073   \n",
      "1457       TA       Gd           No          GLQ         275          Unf           0        877         1152    GasA        Ex          Y      SBrkr      1188   \n",
      "1458       TA       TA           Mn          GLQ          49          Rec        1029          0         1078    GasA        Gd          Y      FuseA      1078   \n",
      "1459       TA       TA           No          BLQ         830          LwQ         290        136         1256    GasA        Gd          Y      SBrkr      1256   \n",
      "\n",
      "      2ndFlrSF  LowQualFinSF  GrLivArea  BsmtFullBath  BsmtHalfBath  FullBath  HalfBath  BedroomAbvGr  KitchenAbvGr KitchenQual  TotRmsAbvGrd Functional  Fireplaces  \\\n",
      "1455       694             0       1647             0             0         2         1             3             1          TA             7        Typ           1   \n",
      "1456         0             0       2073             1             0         2         0             3             1          TA             7       Min1           2   \n",
      "1457      1152             0       2340             0             0         2         0             4             1          Gd             9        Typ           2   \n",
      "1458         0             0       1078             1             0         1         0             2             1          Gd             5        Typ           0   \n",
      "1459         0             0       1256             1             0         1         1             3             1          TA             6        Typ           0   \n",
      "\n",
      "     FireplaceQu GarageType  GarageYrBlt GarageFinish  GarageCars  GarageArea GarageQual GarageCond PavedDrive  WoodDeckSF  OpenPorchSF  EnclosedPorch  3SsnPorch  \\\n",
      "1455          TA     Attchd     1999.000          RFn           2         460         TA         TA          Y           0           40              0          0   \n",
      "1456          TA     Attchd     1978.000          Unf           2         500         TA         TA          Y         349            0              0          0   \n",
      "1457          Gd     Attchd     1941.000          RFn           1         252         TA         TA          Y           0           60              0          0   \n",
      "1458         NaN     Attchd     1950.000          Unf           1         240         TA         TA          Y         366            0            112          0   \n",
      "1459         NaN     Attchd     1965.000          Fin           1         276         TA         TA          Y         736           68              0          0   \n",
      "\n",
      "      ScreenPorch  PoolArea PoolQC  Fence MiscFeature  MiscVal  MoSold  YrSold SaleType SaleCondition  SalePrice  \n",
      "1455            0         0    NaN    NaN         NaN        0       8    2007       WD        Normal     175000  \n",
      "1456            0         0    NaN  MnPrv         NaN        0       2    2010       WD        Normal     210000  \n",
      "1457            0         0    NaN  GdPrv        Shed     2500       5    2010       WD        Normal     266500  \n",
      "1458            0         0    NaN    NaN         NaN        0       4    2010       WD        Normal     142125  \n",
      "1459            0         0    NaN    NaN         NaN        0       6    2008       WD        Normal     147500  \n"
     ]
    }
   ],
   "source": [
    "print('HEAD   :\\n')\n",
    "print(df.head(),'\\n')\n",
    "print('TAIL   :\\n')\n",
    "print(df.tail())\n",
    "    "
   ]
  },
  {
   "cell_type": "markdown",
   "id": "7749d322",
   "metadata": {
    "papermill": {
     "duration": 0.013216,
     "end_time": "2022-11-21T21:41:37.515220",
     "exception": false,
     "start_time": "2022-11-21T21:41:37.502004",
     "status": "completed"
    },
    "tags": []
   },
   "source": [
    "let's overlook the data with describe:\n",
    "the standart deviation of some variables like 'LotArea' and 'GrLivArea' are high.Which means there are less reliable\n",
    "SalePrice is excluded as it's our target variable \n",
    "From count, the missing values of numerical variables can be seen"
   ]
  },
  {
   "cell_type": "code",
   "execution_count": 6,
   "id": "586e9aa6",
   "metadata": {
    "execution": {
     "iopub.execute_input": "2022-11-21T21:41:37.544298Z",
     "iopub.status.busy": "2022-11-21T21:41:37.543895Z",
     "iopub.status.idle": "2022-11-21T21:41:37.642924Z",
     "shell.execute_reply": "2022-11-21T21:41:37.641770Z"
    },
    "papermill": {
     "duration": 0.117928,
     "end_time": "2022-11-21T21:41:37.646528",
     "exception": false,
     "start_time": "2022-11-21T21:41:37.528600",
     "status": "completed"
    },
    "tags": []
   },
   "outputs": [
    {
     "name": "stdout",
     "output_type": "stream",
     "text": [
      "DESCRIBE   :\n",
      "\n",
      "                 count       mean       std       min        25%        50%        75%        max\n",
      "Id            1460.000    730.500   421.610     1.000    365.750    730.500   1095.250   1460.000\n",
      "MSSubClass    1460.000     56.897    42.301    20.000     20.000     50.000     70.000    190.000\n",
      "LotFrontage   1201.000     70.050    24.285    21.000     59.000     69.000     80.000    313.000\n",
      "LotArea       1460.000  10516.828  9981.265  1300.000   7553.500   9478.500  11601.500 215245.000\n",
      "OverallQual   1460.000      6.099     1.383     1.000      5.000      6.000      7.000     10.000\n",
      "OverallCond   1460.000      5.575     1.113     1.000      5.000      5.000      6.000      9.000\n",
      "YearBuilt     1460.000   1971.268    30.203  1872.000   1954.000   1973.000   2000.000   2010.000\n",
      "YearRemodAdd  1460.000   1984.866    20.645  1950.000   1967.000   1994.000   2004.000   2010.000\n",
      "MasVnrArea    1452.000    103.685   181.066     0.000      0.000      0.000    166.000   1600.000\n",
      "BsmtFinSF1    1460.000    443.640   456.098     0.000      0.000    383.500    712.250   5644.000\n",
      "BsmtFinSF2    1460.000     46.549   161.319     0.000      0.000      0.000      0.000   1474.000\n",
      "BsmtUnfSF     1460.000    567.240   441.867     0.000    223.000    477.500    808.000   2336.000\n",
      "TotalBsmtSF   1460.000   1057.429   438.705     0.000    795.750    991.500   1298.250   6110.000\n",
      "1stFlrSF      1460.000   1162.627   386.588   334.000    882.000   1087.000   1391.250   4692.000\n",
      "2ndFlrSF      1460.000    346.992   436.528     0.000      0.000      0.000    728.000   2065.000\n",
      "LowQualFinSF  1460.000      5.845    48.623     0.000      0.000      0.000      0.000    572.000\n",
      "GrLivArea     1460.000   1515.464   525.480   334.000   1129.500   1464.000   1776.750   5642.000\n",
      "BsmtFullBath  1460.000      0.425     0.519     0.000      0.000      0.000      1.000      3.000\n",
      "BsmtHalfBath  1460.000      0.058     0.239     0.000      0.000      0.000      0.000      2.000\n",
      "FullBath      1460.000      1.565     0.551     0.000      1.000      2.000      2.000      3.000\n",
      "HalfBath      1460.000      0.383     0.503     0.000      0.000      0.000      1.000      2.000\n",
      "BedroomAbvGr  1460.000      2.866     0.816     0.000      2.000      3.000      3.000      8.000\n",
      "KitchenAbvGr  1460.000      1.047     0.220     0.000      1.000      1.000      1.000      3.000\n",
      "TotRmsAbvGrd  1460.000      6.518     1.625     2.000      5.000      6.000      7.000     14.000\n",
      "Fireplaces    1460.000      0.613     0.645     0.000      0.000      1.000      1.000      3.000\n",
      "GarageYrBlt   1379.000   1978.506    24.690  1900.000   1961.000   1980.000   2002.000   2010.000\n",
      "GarageCars    1460.000      1.767     0.747     0.000      1.000      2.000      2.000      4.000\n",
      "GarageArea    1460.000    472.980   213.805     0.000    334.500    480.000    576.000   1418.000\n",
      "WoodDeckSF    1460.000     94.245   125.339     0.000      0.000      0.000    168.000    857.000\n",
      "OpenPorchSF   1460.000     46.660    66.256     0.000      0.000     25.000     68.000    547.000\n",
      "EnclosedPorch 1460.000     21.954    61.119     0.000      0.000      0.000      0.000    552.000\n",
      "3SsnPorch     1460.000      3.410    29.317     0.000      0.000      0.000      0.000    508.000\n",
      "ScreenPorch   1460.000     15.061    55.757     0.000      0.000      0.000      0.000    480.000\n",
      "PoolArea      1460.000      2.759    40.177     0.000      0.000      0.000      0.000    738.000\n",
      "MiscVal       1460.000     43.489   496.123     0.000      0.000      0.000      0.000  15500.000\n",
      "MoSold        1460.000      6.322     2.704     1.000      5.000      6.000      8.000     12.000\n",
      "YrSold        1460.000   2007.816     1.328  2006.000   2007.000   2008.000   2009.000   2010.000\n",
      "SalePrice     1460.000 180921.196 79442.503 34900.000 129975.000 163000.000 214000.000 755000.000\n"
     ]
    }
   ],
   "source": [
    "print('DESCRIBE   :\\n')\n",
    "print(df.describe().T)"
   ]
  },
  {
   "cell_type": "markdown",
   "id": "9ccc7a95",
   "metadata": {
    "papermill": {
     "duration": 0.014837,
     "end_time": "2022-11-21T21:41:37.681518",
     "exception": false,
     "start_time": "2022-11-21T21:41:37.666681",
     "status": "completed"
    },
    "tags": []
   },
   "source": [
    "detecting missing values\n",
    "1)check if there are any \n",
    "2)deal with them as categorical and numerical separately to decide how to manipulate"
   ]
  },
  {
   "cell_type": "code",
   "execution_count": 7,
   "id": "464c1ce1",
   "metadata": {
    "execution": {
     "iopub.execute_input": "2022-11-21T21:41:37.717486Z",
     "iopub.status.busy": "2022-11-21T21:41:37.717061Z",
     "iopub.status.idle": "2022-11-21T21:41:37.728179Z",
     "shell.execute_reply": "2022-11-21T21:41:37.726665Z"
    },
    "papermill": {
     "duration": 0.030769,
     "end_time": "2022-11-21T21:41:37.731229",
     "exception": false,
     "start_time": "2022-11-21T21:41:37.700460",
     "status": "completed"
    },
    "tags": []
   },
   "outputs": [
    {
     "name": "stdout",
     "output_type": "stream",
     "text": [
      "NA   :\n",
      "\n",
      "Id                  0\n",
      "MSSubClass          0\n",
      "MSZoning            0\n",
      "LotFrontage       259\n",
      "LotArea             0\n",
      "Street              0\n",
      "Alley            1369\n",
      "LotShape            0\n",
      "LandContour         0\n",
      "Utilities           0\n",
      "LotConfig           0\n",
      "LandSlope           0\n",
      "Neighborhood        0\n",
      "Condition1          0\n",
      "Condition2          0\n",
      "BldgType            0\n",
      "HouseStyle          0\n",
      "OverallQual         0\n",
      "OverallCond         0\n",
      "YearBuilt           0\n",
      "YearRemodAdd        0\n",
      "RoofStyle           0\n",
      "RoofMatl            0\n",
      "Exterior1st         0\n",
      "Exterior2nd         0\n",
      "MasVnrType          8\n",
      "MasVnrArea          8\n",
      "ExterQual           0\n",
      "ExterCond           0\n",
      "Foundation          0\n",
      "BsmtQual           37\n",
      "BsmtCond           37\n",
      "BsmtExposure       38\n",
      "BsmtFinType1       37\n",
      "BsmtFinSF1          0\n",
      "BsmtFinType2       38\n",
      "BsmtFinSF2          0\n",
      "BsmtUnfSF           0\n",
      "TotalBsmtSF         0\n",
      "Heating             0\n",
      "HeatingQC           0\n",
      "CentralAir          0\n",
      "Electrical          1\n",
      "1stFlrSF            0\n",
      "2ndFlrSF            0\n",
      "LowQualFinSF        0\n",
      "GrLivArea           0\n",
      "BsmtFullBath        0\n",
      "BsmtHalfBath        0\n",
      "FullBath            0\n",
      "HalfBath            0\n",
      "BedroomAbvGr        0\n",
      "KitchenAbvGr        0\n",
      "KitchenQual         0\n",
      "TotRmsAbvGrd        0\n",
      "Functional          0\n",
      "Fireplaces          0\n",
      "FireplaceQu       690\n",
      "GarageType         81\n",
      "GarageYrBlt        81\n",
      "GarageFinish       81\n",
      "GarageCars          0\n",
      "GarageArea          0\n",
      "GarageQual         81\n",
      "GarageCond         81\n",
      "PavedDrive          0\n",
      "WoodDeckSF          0\n",
      "OpenPorchSF         0\n",
      "EnclosedPorch       0\n",
      "3SsnPorch           0\n",
      "ScreenPorch         0\n",
      "PoolArea            0\n",
      "PoolQC           1453\n",
      "Fence            1179\n",
      "MiscFeature      1406\n",
      "MiscVal             0\n",
      "MoSold              0\n",
      "YrSold              0\n",
      "SaleType            0\n",
      "SaleCondition       0\n",
      "SalePrice           0\n",
      "dtype: int64\n"
     ]
    }
   ],
   "source": [
    "print('NA   :\\n')\n",
    "print(df.isnull().sum())"
   ]
  },
  {
   "cell_type": "markdown",
   "id": "faaf6f4b",
   "metadata": {
    "papermill": {
     "duration": 0.014017,
     "end_time": "2022-11-21T21:41:37.759667",
     "exception": false,
     "start_time": "2022-11-21T21:41:37.745650",
     "status": "completed"
    },
    "tags": []
   },
   "source": [
    "to see all the missing values"
   ]
  },
  {
   "cell_type": "markdown",
   "id": "28ba4803",
   "metadata": {
    "_cell_guid": "0ce95b15-5f02-4e51-b41a-c63f8f50ac65",
    "_uuid": "ed0443e6-e2e3-414f-9c1e-f09b04b314be",
    "jupyter": {
     "outputs_hidden": false
    },
    "papermill": {
     "duration": 0.013441,
     "end_time": "2022-11-21T21:41:37.786847",
     "exception": false,
     "start_time": "2022-11-21T21:41:37.773406",
     "status": "completed"
    },
    "tags": []
   },
   "source": [
    "the ones with a high ratio of missing values should be eliminated."
   ]
  },
  {
   "cell_type": "code",
   "execution_count": 8,
   "id": "cc0e5aac",
   "metadata": {
    "execution": {
     "iopub.execute_input": "2022-11-21T21:41:37.816544Z",
     "iopub.status.busy": "2022-11-21T21:41:37.816145Z",
     "iopub.status.idle": "2022-11-21T21:41:37.851805Z",
     "shell.execute_reply": "2022-11-21T21:41:37.850660Z"
    },
    "papermill": {
     "duration": 0.054278,
     "end_time": "2022-11-21T21:41:37.854856",
     "exception": false,
     "start_time": "2022-11-21T21:41:37.800578",
     "status": "completed"
    },
    "tags": []
   },
   "outputs": [
    {
     "name": "stdout",
     "output_type": "stream",
     "text": [
      "              n_miss  ratio\n",
      "PoolQC          1453 99.520\n",
      "MiscFeature     1406 96.300\n",
      "Alley           1369 93.770\n",
      "Fence           1179 80.750\n",
      "FireplaceQu      690 47.260\n",
      "LotFrontage      259 17.740\n",
      "GarageType        81  5.550\n",
      "GarageYrBlt       81  5.550\n",
      "GarageFinish      81  5.550\n",
      "GarageQual        81  5.550\n",
      "GarageCond        81  5.550\n",
      "BsmtExposure      38  2.600\n",
      "BsmtFinType2      38  2.600\n",
      "BsmtFinType1      37  2.530\n",
      "BsmtCond          37  2.530\n",
      "BsmtQual          37  2.530\n",
      "MasVnrArea         8  0.550\n",
      "MasVnrType         8  0.550\n",
      "Electrical         1  0.070\n"
     ]
    }
   ],
   "source": [
    "missing_values_table(df)"
   ]
  },
  {
   "cell_type": "markdown",
   "id": "75cdff77",
   "metadata": {
    "papermill": {
     "duration": 0.013705,
     "end_time": "2022-11-21T21:41:37.883185",
     "exception": false,
     "start_time": "2022-11-21T21:41:37.869480",
     "status": "completed"
    },
    "tags": []
   },
   "source": [
    "there are 1460 rows in total.It'll make sense to drop the PoolQC,MiscFeature,Alley,FireplaceQu and Fence columns which have quite a few null rows and the 'Id' column as it won't help us examine or eliminate the data                "
   ]
  },
  {
   "cell_type": "code",
   "execution_count": 9,
   "id": "717dfd58",
   "metadata": {
    "execution": {
     "iopub.execute_input": "2022-11-21T21:41:37.913226Z",
     "iopub.status.busy": "2022-11-21T21:41:37.912086Z",
     "iopub.status.idle": "2022-11-21T21:41:37.921600Z",
     "shell.execute_reply": "2022-11-21T21:41:37.920543Z"
    },
    "papermill": {
     "duration": 0.027066,
     "end_time": "2022-11-21T21:41:37.924072",
     "exception": false,
     "start_time": "2022-11-21T21:41:37.897006",
     "status": "completed"
    },
    "tags": []
   },
   "outputs": [],
   "source": [
    "df.drop([\"PoolQC\",\"MiscFeature\",\"Alley\",\"Fence\",\"FireplaceQu\",\"LotFrontage\"],inplace=True, axis=1)\n",
    "df.drop(\"Id\",inplace=True, axis=1)\n"
   ]
  },
  {
   "cell_type": "markdown",
   "id": "e4b1b62d",
   "metadata": {
    "papermill": {
     "duration": 0.013547,
     "end_time": "2022-11-21T21:41:37.951472",
     "exception": false,
     "start_time": "2022-11-21T21:41:37.937925",
     "status": "completed"
    },
    "tags": []
   },
   "source": [
    "let's fill the empty values of the numerical variables with their mean"
   ]
  },
  {
   "cell_type": "code",
   "execution_count": 10,
   "id": "0d033f9b",
   "metadata": {
    "execution": {
     "iopub.execute_input": "2022-11-21T21:41:37.982230Z",
     "iopub.status.busy": "2022-11-21T21:41:37.981523Z",
     "iopub.status.idle": "2022-11-21T21:41:38.001995Z",
     "shell.execute_reply": "2022-11-21T21:41:38.001081Z"
    },
    "papermill": {
     "duration": 0.038508,
     "end_time": "2022-11-21T21:41:38.004318",
     "exception": false,
     "start_time": "2022-11-21T21:41:37.965810",
     "status": "completed"
    },
    "tags": []
   },
   "outputs": [],
   "source": [
    "df = df.apply(lambda x: x.fillna(x.mean()) if x.dtype != \"O\" else x, axis=0)"
   ]
  },
  {
   "cell_type": "markdown",
   "id": "da7aa256",
   "metadata": {
    "papermill": {
     "duration": 0.013554,
     "end_time": "2022-11-21T21:41:38.031833",
     "exception": false,
     "start_time": "2022-11-21T21:41:38.018279",
     "status": "completed"
    },
    "tags": []
   },
   "source": [
    "after dealing with numerical variables, now fill the rest with the word \"unknown\" and check the null values again"
   ]
  },
  {
   "cell_type": "code",
   "execution_count": 11,
   "id": "580a4554",
   "metadata": {
    "execution": {
     "iopub.execute_input": "2022-11-21T21:41:38.061357Z",
     "iopub.status.busy": "2022-11-21T21:41:38.060704Z",
     "iopub.status.idle": "2022-11-21T21:41:38.070691Z",
     "shell.execute_reply": "2022-11-21T21:41:38.069861Z"
    },
    "papermill": {
     "duration": 0.027232,
     "end_time": "2022-11-21T21:41:38.072771",
     "exception": false,
     "start_time": "2022-11-21T21:41:38.045539",
     "status": "completed"
    },
    "tags": []
   },
   "outputs": [],
   "source": [
    "df = df.fillna(\"Unknown\")"
   ]
  },
  {
   "cell_type": "code",
   "execution_count": 12,
   "id": "3f5a99e6",
   "metadata": {
    "execution": {
     "iopub.execute_input": "2022-11-21T21:41:38.102103Z",
     "iopub.status.busy": "2022-11-21T21:41:38.101500Z",
     "iopub.status.idle": "2022-11-21T21:41:38.113244Z",
     "shell.execute_reply": "2022-11-21T21:41:38.112341Z"
    },
    "papermill": {
     "duration": 0.028944,
     "end_time": "2022-11-21T21:41:38.115446",
     "exception": false,
     "start_time": "2022-11-21T21:41:38.086502",
     "status": "completed"
    },
    "tags": []
   },
   "outputs": [
    {
     "data": {
      "text/plain": [
       "False"
      ]
     },
     "execution_count": 12,
     "metadata": {},
     "output_type": "execute_result"
    }
   ],
   "source": [
    "df.isnull().values.any()"
   ]
  },
  {
   "cell_type": "markdown",
   "id": "01001e7b",
   "metadata": {
    "papermill": {
     "duration": 0.013553,
     "end_time": "2022-11-21T21:41:38.142981",
     "exception": false,
     "start_time": "2022-11-21T21:41:38.129428",
     "status": "completed"
    },
    "tags": []
   },
   "source": [
    "two columns OverallQual and OverallCond give us an overall rate from 1 to 10. They can be merged as one column to examine together by taking their median. The columns can be dropped afterwards "
   ]
  },
  {
   "cell_type": "code",
   "execution_count": 13,
   "id": "91d41309",
   "metadata": {
    "execution": {
     "iopub.execute_input": "2022-11-21T21:41:38.172422Z",
     "iopub.status.busy": "2022-11-21T21:41:38.171751Z",
     "iopub.status.idle": "2022-11-21T21:41:38.182097Z",
     "shell.execute_reply": "2022-11-21T21:41:38.181076Z"
    },
    "papermill": {
     "duration": 0.027729,
     "end_time": "2022-11-21T21:41:38.184442",
     "exception": false,
     "start_time": "2022-11-21T21:41:38.156713",
     "status": "completed"
    },
    "tags": []
   },
   "outputs": [],
   "source": [
    "df[\"Overall\"] = df.groupby(\"OverallQual\")[\"OverallCond\"].transform(\"median\")"
   ]
  },
  {
   "cell_type": "code",
   "execution_count": 14,
   "id": "be9c78cc",
   "metadata": {
    "execution": {
     "iopub.execute_input": "2022-11-21T21:41:38.215228Z",
     "iopub.status.busy": "2022-11-21T21:41:38.214792Z",
     "iopub.status.idle": "2022-11-21T21:41:38.223194Z",
     "shell.execute_reply": "2022-11-21T21:41:38.222125Z"
    },
    "papermill": {
     "duration": 0.026209,
     "end_time": "2022-11-21T21:41:38.225302",
     "exception": false,
     "start_time": "2022-11-21T21:41:38.199093",
     "status": "completed"
    },
    "tags": []
   },
   "outputs": [
    {
     "data": {
      "text/plain": [
       "array([5., 6., 4., 2., 3.])"
      ]
     },
     "execution_count": 14,
     "metadata": {},
     "output_type": "execute_result"
    }
   ],
   "source": [
    "df[\"Overall\"].unique()"
   ]
  },
  {
   "cell_type": "code",
   "execution_count": 15,
   "id": "3b08cb58",
   "metadata": {
    "execution": {
     "iopub.execute_input": "2022-11-21T21:41:38.254969Z",
     "iopub.status.busy": "2022-11-21T21:41:38.254587Z",
     "iopub.status.idle": "2022-11-21T21:41:38.263246Z",
     "shell.execute_reply": "2022-11-21T21:41:38.262206Z"
    },
    "papermill": {
     "duration": 0.025962,
     "end_time": "2022-11-21T21:41:38.265351",
     "exception": false,
     "start_time": "2022-11-21T21:41:38.239389",
     "status": "completed"
    },
    "tags": []
   },
   "outputs": [],
   "source": [
    "df=df.drop([\"OverallQual\",\"OverallCond\"], axis=1)"
   ]
  },
  {
   "cell_type": "markdown",
   "id": "aeeeb7a4",
   "metadata": {
    "papermill": {
     "duration": 0.013775,
     "end_time": "2022-11-21T21:41:38.293183",
     "exception": false,
     "start_time": "2022-11-21T21:41:38.279408",
     "status": "completed"
    },
    "tags": []
   },
   "source": [
    "again,two related variables about roof can be observed together "
   ]
  },
  {
   "cell_type": "code",
   "execution_count": 16,
   "id": "ae9aaecf",
   "metadata": {
    "execution": {
     "iopub.execute_input": "2022-11-21T21:41:38.322880Z",
     "iopub.status.busy": "2022-11-21T21:41:38.322495Z",
     "iopub.status.idle": "2022-11-21T21:41:38.375410Z",
     "shell.execute_reply": "2022-11-21T21:41:38.374305Z"
    },
    "papermill": {
     "duration": 0.070729,
     "end_time": "2022-11-21T21:41:38.377921",
     "exception": false,
     "start_time": "2022-11-21T21:41:38.307192",
     "status": "completed"
    },
    "tags": []
   },
   "outputs": [],
   "source": [
    "df[\"Roof\"] = df[['RoofStyle', 'RoofMatl']].agg('-'.join, axis=1)"
   ]
  },
  {
   "cell_type": "code",
   "execution_count": 17,
   "id": "8e89edcf",
   "metadata": {
    "execution": {
     "iopub.execute_input": "2022-11-21T21:41:38.408465Z",
     "iopub.status.busy": "2022-11-21T21:41:38.408053Z",
     "iopub.status.idle": "2022-11-21T21:41:38.415892Z",
     "shell.execute_reply": "2022-11-21T21:41:38.414842Z"
    },
    "papermill": {
     "duration": 0.025746,
     "end_time": "2022-11-21T21:41:38.418101",
     "exception": false,
     "start_time": "2022-11-21T21:41:38.392355",
     "status": "completed"
    },
    "tags": []
   },
   "outputs": [
    {
     "data": {
      "text/plain": [
       "0    Gable-CompShg\n",
       "1    Gable-CompShg\n",
       "2    Gable-CompShg\n",
       "3    Gable-CompShg\n",
       "4    Gable-CompShg\n",
       "Name: Roof, dtype: object"
      ]
     },
     "execution_count": 17,
     "metadata": {},
     "output_type": "execute_result"
    }
   ],
   "source": [
    "df[\"Roof\"].head()"
   ]
  },
  {
   "cell_type": "code",
   "execution_count": 18,
   "id": "d038f80f",
   "metadata": {
    "execution": {
     "iopub.execute_input": "2022-11-21T21:41:38.449021Z",
     "iopub.status.busy": "2022-11-21T21:41:38.448638Z",
     "iopub.status.idle": "2022-11-21T21:41:38.456493Z",
     "shell.execute_reply": "2022-11-21T21:41:38.455483Z"
    },
    "papermill": {
     "duration": 0.025855,
     "end_time": "2022-11-21T21:41:38.458694",
     "exception": false,
     "start_time": "2022-11-21T21:41:38.432839",
     "status": "completed"
    },
    "tags": []
   },
   "outputs": [],
   "source": [
    "df=df.drop([\"RoofStyle\",\"RoofMatl\"], axis=1)"
   ]
  },
  {
   "cell_type": "markdown",
   "id": "ec5f833d",
   "metadata": {
    "papermill": {
     "duration": 0.013798,
     "end_time": "2022-11-21T21:41:38.486667",
     "exception": false,
     "start_time": "2022-11-21T21:41:38.472869",
     "status": "completed"
    },
    "tags": []
   },
   "source": [
    "categorizing columns(numerical, categorical and recategorized values)"
   ]
  },
  {
   "cell_type": "code",
   "execution_count": 19,
   "id": "8a2d5f2a",
   "metadata": {
    "execution": {
     "iopub.execute_input": "2022-11-21T21:41:38.516516Z",
     "iopub.status.busy": "2022-11-21T21:41:38.516086Z",
     "iopub.status.idle": "2022-11-21T21:41:38.545508Z",
     "shell.execute_reply": "2022-11-21T21:41:38.544056Z"
    },
    "papermill": {
     "duration": 0.047575,
     "end_time": "2022-11-21T21:41:38.548318",
     "exception": false,
     "start_time": "2022-11-21T21:41:38.500743",
     "status": "completed"
    },
    "tags": []
   },
   "outputs": [
    {
     "name": "stdout",
     "output_type": "stream",
     "text": [
      "Observations: 1460\n",
      "Variables: 72\n",
      "cat_cols: 47\n",
      "num_cols: 24\n",
      "cat_but_car: 1\n",
      "num_but_cat: 11\n"
     ]
    }
   ],
   "source": [
    "cat_cols,num_cols,cat_but_car = grab_col_names(df)"
   ]
  },
  {
   "cell_type": "code",
   "execution_count": 20,
   "id": "295ad8bd",
   "metadata": {
    "execution": {
     "iopub.execute_input": "2022-11-21T21:41:38.579440Z",
     "iopub.status.busy": "2022-11-21T21:41:38.578459Z",
     "iopub.status.idle": "2022-11-21T21:41:38.585226Z",
     "shell.execute_reply": "2022-11-21T21:41:38.584202Z"
    },
    "papermill": {
     "duration": 0.024209,
     "end_time": "2022-11-21T21:41:38.587236",
     "exception": false,
     "start_time": "2022-11-21T21:41:38.563027",
     "status": "completed"
    },
    "tags": []
   },
   "outputs": [
    {
     "data": {
      "text/plain": [
       "['MSZoning',\n",
       " 'Street',\n",
       " 'LotShape',\n",
       " 'LandContour',\n",
       " 'Utilities',\n",
       " 'LotConfig',\n",
       " 'LandSlope',\n",
       " 'Condition1',\n",
       " 'Condition2',\n",
       " 'BldgType',\n",
       " 'HouseStyle',\n",
       " 'Exterior1st',\n",
       " 'Exterior2nd',\n",
       " 'MasVnrType',\n",
       " 'ExterQual',\n",
       " 'ExterCond',\n",
       " 'Foundation',\n",
       " 'BsmtQual',\n",
       " 'BsmtCond',\n",
       " 'BsmtExposure',\n",
       " 'BsmtFinType1',\n",
       " 'BsmtFinType2',\n",
       " 'Heating',\n",
       " 'HeatingQC',\n",
       " 'CentralAir',\n",
       " 'Electrical',\n",
       " 'KitchenQual',\n",
       " 'Functional',\n",
       " 'GarageType',\n",
       " 'GarageFinish',\n",
       " 'GarageQual',\n",
       " 'GarageCond',\n",
       " 'PavedDrive',\n",
       " 'SaleType',\n",
       " 'SaleCondition',\n",
       " 'Roof',\n",
       " 'BsmtFullBath',\n",
       " 'BsmtHalfBath',\n",
       " 'FullBath',\n",
       " 'HalfBath',\n",
       " 'BedroomAbvGr',\n",
       " 'KitchenAbvGr',\n",
       " 'Fireplaces',\n",
       " 'GarageCars',\n",
       " 'PoolArea',\n",
       " 'YrSold',\n",
       " 'Overall']"
      ]
     },
     "execution_count": 20,
     "metadata": {},
     "output_type": "execute_result"
    }
   ],
   "source": [
    "cat_cols"
   ]
  },
  {
   "cell_type": "markdown",
   "id": "59ce0ec9",
   "metadata": {
    "papermill": {
     "duration": 0.014132,
     "end_time": "2022-11-21T21:41:38.615811",
     "exception": false,
     "start_time": "2022-11-21T21:41:38.601679",
     "status": "completed"
    },
    "tags": []
   },
   "source": [
    "The target value \"SalePrice\" can be compared with similar various variables as seen below"
   ]
  },
  {
   "cell_type": "code",
   "execution_count": 21,
   "id": "7dae38f5",
   "metadata": {
    "execution": {
     "iopub.execute_input": "2022-11-21T21:41:38.646801Z",
     "iopub.status.busy": "2022-11-21T21:41:38.646103Z",
     "iopub.status.idle": "2022-11-21T21:41:38.660805Z",
     "shell.execute_reply": "2022-11-21T21:41:38.659178Z"
    },
    "papermill": {
     "duration": 0.033127,
     "end_time": "2022-11-21T21:41:38.663536",
     "exception": false,
     "start_time": "2022-11-21T21:41:38.630409",
     "status": "completed"
    },
    "tags": []
   },
   "outputs": [
    {
     "name": "stdout",
     "output_type": "stream",
     "text": [
      "                        TARGET_MEAN  TARGET_COUNT\n",
      "SaleCondition SaleType                           \n",
      "Abnorml       COD        145345.833            24\n",
      "              CWD        328900.000             1\n",
      "              ConLD       82450.000             2\n",
      "              ConLI      125000.000             1\n",
      "              Oth        119850.000             3\n",
      "              WD         147607.700            70\n",
      "AdjLand       WD         104125.000             4\n",
      "Alloca        WD         167377.417            12\n",
      "Family        CWD        136000.000             1\n",
      "              WD         150315.789            19\n",
      "Normal        COD        142239.474            19\n",
      "              CWD        188750.000             2\n",
      "              Con        269600.000             2\n",
      "              ConLD      141500.000             6\n",
      "              ConLI      219237.500             4\n",
      "              ConLw      143700.000             5\n",
      "              WD         175714.275          1160\n",
      "Partial       ConLD      235128.000             1\n",
      "              New        274945.418           122\n",
      "              WD         129000.000             2\n",
      "\n",
      "\n"
     ]
    }
   ],
   "source": [
    "target_summary_with_cat(df, \"SalePrice\", 'SaleCondition','SaleType')"
   ]
  },
  {
   "cell_type": "code",
   "execution_count": 22,
   "id": "67f7bd99",
   "metadata": {
    "execution": {
     "iopub.execute_input": "2022-11-21T21:41:38.695382Z",
     "iopub.status.busy": "2022-11-21T21:41:38.694292Z",
     "iopub.status.idle": "2022-11-21T21:41:38.705832Z",
     "shell.execute_reply": "2022-11-21T21:41:38.704434Z"
    },
    "papermill": {
     "duration": 0.029429,
     "end_time": "2022-11-21T21:41:38.708049",
     "exception": false,
     "start_time": "2022-11-21T21:41:38.678620",
     "status": "completed"
    },
    "tags": []
   },
   "outputs": [
    {
     "name": "stdout",
     "output_type": "stream",
     "text": [
      "                    TARGET_MEAN  TARGET_COUNT\n",
      "BldgType ExterCond                           \n",
      "1Fam     Ex          201333.333             3\n",
      "         Fa           98065.000            20\n",
      "         Gd          169764.778           135\n",
      "         Po           76500.000             1\n",
      "         TA          189511.593          1061\n",
      "2fmCon   Fa          113200.000             7\n",
      "         Gd          145166.667             3\n",
      "         TA          131119.048            21\n",
      "Duplex   Fa          118964.000             1\n",
      "         Gd          162400.000             2\n",
      "         TA          132660.653            49\n",
      "Twnhs    Gd          106000.000             3\n",
      "         TA          138155.000            40\n",
      "TwnhsE   Gd          220833.333             3\n",
      "         TA          180908.694           111\n",
      "\n",
      "\n"
     ]
    }
   ],
   "source": [
    "target_summary_with_cat(df, \"SalePrice\", 'BldgType','ExterCond')"
   ]
  },
  {
   "cell_type": "markdown",
   "id": "f780a142",
   "metadata": {
    "papermill": {
     "duration": 0.014369,
     "end_time": "2022-11-21T21:41:38.737191",
     "exception": false,
     "start_time": "2022-11-21T21:41:38.722822",
     "status": "completed"
    },
    "tags": []
   },
   "source": [
    "correlation matrix gives us the most correlated values which are the darkest blue ones in the plot "
   ]
  },
  {
   "cell_type": "code",
   "execution_count": 23,
   "id": "f71ec5db",
   "metadata": {
    "execution": {
     "iopub.execute_input": "2022-11-21T21:41:38.768517Z",
     "iopub.status.busy": "2022-11-21T21:41:38.767477Z",
     "iopub.status.idle": "2022-11-21T21:41:41.612949Z",
     "shell.execute_reply": "2022-11-21T21:41:41.611937Z"
    },
    "papermill": {
     "duration": 2.869275,
     "end_time": "2022-11-21T21:41:41.621079",
     "exception": false,
     "start_time": "2022-11-21T21:41:38.751804",
     "status": "completed"
    },
    "tags": []
   },
   "outputs": [
    {
     "data": {
      "image/png": "[encoded data removed]",
      "text/plain": [
       "<Figure size 1440x1152 with 2 Axes>"
      ]
     },
     "metadata": {
      "needs_background": "light"
     },
     "output_type": "display_data"
    }
   ],
   "source": [
    "correlation_matrix(df, num_cols)\n"
   ]
  },
  {
   "cell_type": "markdown",
   "id": "9db6d92c",
   "metadata": {
    "papermill": {
     "duration": 0.020425,
     "end_time": "2022-11-21T21:41:41.662285",
     "exception": false,
     "start_time": "2022-11-21T21:41:41.641860",
     "status": "completed"
    },
    "tags": []
   },
   "source": [
    " '1stFlrSF', 'GrLivArea', 'GarageArea' and 'TotalBsmtSF' are strongly correlated with 'SalePrice'.Strong correlations among features is not something we want, because it slightly prevents us getting information about the features that contributing more to the prediction. Therefore, we are dropping more than %80 percent coreelated columns"
   ]
  },
  {
   "cell_type": "code",
   "execution_count": 24,
   "id": "c250c926",
   "metadata": {
    "execution": {
     "iopub.execute_input": "2022-11-21T21:41:41.706094Z",
     "iopub.status.busy": "2022-11-21T21:41:41.705443Z",
     "iopub.status.idle": "2022-11-21T21:41:41.721691Z",
     "shell.execute_reply": "2022-11-21T21:41:41.720865Z"
    },
    "papermill": {
     "duration": 0.040783,
     "end_time": "2022-11-21T21:41:41.723827",
     "exception": false,
     "start_time": "2022-11-21T21:41:41.683044",
     "status": "completed"
    },
    "tags": []
   },
   "outputs": [],
   "source": [
    "drop_list = high_correlated_cols(df)"
   ]
  },
  {
   "cell_type": "code",
   "execution_count": 25,
   "id": "c67d68f6",
   "metadata": {
    "execution": {
     "iopub.execute_input": "2022-11-21T21:41:41.766771Z",
     "iopub.status.busy": "2022-11-21T21:41:41.766363Z",
     "iopub.status.idle": "2022-11-21T21:41:41.773058Z",
     "shell.execute_reply": "2022-11-21T21:41:41.771978Z"
    },
    "papermill": {
     "duration": 0.030855,
     "end_time": "2022-11-21T21:41:41.775118",
     "exception": false,
     "start_time": "2022-11-21T21:41:41.744263",
     "status": "completed"
    },
    "tags": []
   },
   "outputs": [
    {
     "data": {
      "text/plain": [
       "['1stFlrSF', 'TotRmsAbvGrd', 'GarageArea']"
      ]
     },
     "execution_count": 25,
     "metadata": {},
     "output_type": "execute_result"
    }
   ],
   "source": [
    "drop_list"
   ]
  },
  {
   "cell_type": "code",
   "execution_count": 26,
   "id": "cc2fa260",
   "metadata": {
    "execution": {
     "iopub.execute_input": "2022-11-21T21:41:41.818438Z",
     "iopub.status.busy": "2022-11-21T21:41:41.817769Z",
     "iopub.status.idle": "2022-11-21T21:41:41.824455Z",
     "shell.execute_reply": "2022-11-21T21:41:41.823375Z"
    },
    "papermill": {
     "duration": 0.031071,
     "end_time": "2022-11-21T21:41:41.826604",
     "exception": false,
     "start_time": "2022-11-21T21:41:41.795533",
     "status": "completed"
    },
    "tags": []
   },
   "outputs": [],
   "source": [
    "df= df.drop(drop_list, axis=1)"
   ]
  },
  {
   "cell_type": "markdown",
   "id": "35ea596e",
   "metadata": {
    "papermill": {
     "duration": 0.020213,
     "end_time": "2022-11-21T21:41:41.867290",
     "exception": false,
     "start_time": "2022-11-21T21:41:41.847077",
     "status": "completed"
    },
    "tags": []
   },
   "source": [
    "let's plot the target variable 'SalePrice'. As seen below;the majority of the house prices are between 100000 - 300000. If we label this part as affordable and convert the column to categorical var. , we can run ml algorithm on it  "
   ]
  },
  {
   "cell_type": "code",
   "execution_count": 27,
   "id": "55e04eec",
   "metadata": {
    "execution": {
     "iopub.execute_input": "2022-11-21T21:41:41.909901Z",
     "iopub.status.busy": "2022-11-21T21:41:41.909526Z",
     "iopub.status.idle": "2022-11-21T21:41:42.131832Z",
     "shell.execute_reply": "2022-11-21T21:41:42.130720Z"
    },
    "papermill": {
     "duration": 0.246581,
     "end_time": "2022-11-21T21:41:42.134281",
     "exception": false,
     "start_time": "2022-11-21T21:41:41.887700",
     "status": "completed"
    },
    "tags": []
   },
   "outputs": [
    {
     "data": {
      "image/png": "[encoded data removed]",
      "text/plain": [
       "<Figure size 432x288 with 1 Axes>"
      ]
     },
     "metadata": {
      "needs_background": "light"
     },
     "output_type": "display_data"
    }
   ],
   "source": [
    "df['SalePrice'].hist(bins=20)\n",
    "plt.show()"
   ]
  },
  {
   "cell_type": "code",
   "execution_count": 28,
   "id": "c15fab39",
   "metadata": {
    "execution": {
     "iopub.execute_input": "2022-11-21T21:41:42.178676Z",
     "iopub.status.busy": "2022-11-21T21:41:42.177389Z",
     "iopub.status.idle": "2022-11-21T21:41:42.185991Z",
     "shell.execute_reply": "2022-11-21T21:41:42.184917Z"
    },
    "papermill": {
     "duration": 0.0328,
     "end_time": "2022-11-21T21:41:42.188197",
     "exception": false,
     "start_time": "2022-11-21T21:41:42.155397",
     "status": "completed"
    },
    "tags": []
   },
   "outputs": [
    {
     "data": {
      "text/plain": [
       "dtype('float64')"
      ]
     },
     "execution_count": 28,
     "metadata": {},
     "output_type": "execute_result"
    }
   ],
   "source": [
    "\n",
    "df['SalePrice'] = df['SalePrice'].astype(float)\n",
    "df['SalePrice'].dtypes"
   ]
  },
  {
   "cell_type": "markdown",
   "id": "a849e2bf",
   "metadata": {
    "papermill": {
     "duration": 0.020442,
     "end_time": "2022-11-21T21:41:42.229417",
     "exception": false,
     "start_time": "2022-11-21T21:41:42.208975",
     "status": "completed"
    },
    "tags": []
   },
   "source": [
    "let's call the function to recategorize the columns "
   ]
  },
  {
   "cell_type": "code",
   "execution_count": 29,
   "id": "20c534a5",
   "metadata": {
    "execution": {
     "iopub.execute_input": "2022-11-21T21:41:42.272664Z",
     "iopub.status.busy": "2022-11-21T21:41:42.271880Z",
     "iopub.status.idle": "2022-11-21T21:41:42.299378Z",
     "shell.execute_reply": "2022-11-21T21:41:42.297973Z"
    },
    "papermill": {
     "duration": 0.051568,
     "end_time": "2022-11-21T21:41:42.301626",
     "exception": false,
     "start_time": "2022-11-21T21:41:42.250058",
     "status": "completed"
    },
    "tags": []
   },
   "outputs": [
    {
     "name": "stdout",
     "output_type": "stream",
     "text": [
      "Observations: 1460\n",
      "Variables: 69\n",
      "cat_cols: 47\n",
      "num_cols: 21\n",
      "cat_but_car: 1\n",
      "num_but_cat: 11\n"
     ]
    }
   ],
   "source": [
    "cat_cols,num_cols,cat_but_car = grab_col_names(df)"
   ]
  },
  {
   "cell_type": "markdown",
   "id": "884cd83f",
   "metadata": {
    "papermill": {
     "duration": 0.020677,
     "end_time": "2022-11-21T21:41:42.343541",
     "exception": false,
     "start_time": "2022-11-21T21:41:42.322864",
     "status": "completed"
    },
    "tags": []
   },
   "source": [
    "OUTLIERS!!! Now its time to check the outliers of the numerical columns.Seaborn's boxplot is used to visualize the outliers."
   ]
  },
  {
   "cell_type": "code",
   "execution_count": 30,
   "id": "0948e2b9",
   "metadata": {
    "_kg_hide-output": false,
    "execution": {
     "iopub.execute_input": "2022-11-21T21:41:42.387681Z",
     "iopub.status.busy": "2022-11-21T21:41:42.386757Z",
     "iopub.status.idle": "2022-11-21T21:41:44.056734Z",
     "shell.execute_reply": "2022-11-21T21:41:44.055882Z"
    },
    "papermill": {
     "duration": 1.694383,
     "end_time": "2022-11-21T21:41:44.058959",
     "exception": false,
     "start_time": "2022-11-21T21:41:42.364576",
     "status": "completed"
    },
    "tags": []
   },
   "outputs": [
    {
     "name": "stdout",
     "output_type": "stream",
     "text": [
      "MSSubClass False\n",
      "LotArea True\n",
      "YearBuilt True\n",
      "YearRemodAdd False\n",
      "MasVnrArea True\n",
      "BsmtFinSF1 True\n",
      "BsmtFinSF2 True\n",
      "BsmtUnfSF False\n",
      "TotalBsmtSF True\n",
      "2ndFlrSF False\n",
      "LowQualFinSF True\n",
      "GrLivArea True\n",
      "GarageYrBlt False\n",
      "WoodDeckSF True\n",
      "OpenPorchSF True\n",
      "EnclosedPorch True\n",
      "3SsnPorch True\n",
      "ScreenPorch True\n",
      "MiscVal True\n",
      "MoSold False\n",
      "SalePrice True\n"
     ]
    },
    {
     "data": {
      "image/png": "[encoded data removed]",
      "text/plain": [
       "<Figure size 432x288 with 1 Axes>"
      ]
     },
     "metadata": {
      "needs_background": "light"
     },
     "output_type": "display_data"
    },
    {
     "data": {
      "image/png": "[encoded data removed]",
      "text/plain": [
       "<Figure size 432x288 with 1 Axes>"
      ]
     },
     "metadata": {
      "needs_background": "light"
     },
     "output_type": "display_data"
    },
    {
     "data": {
      "image/png": "[encoded data removed]",
      "text/plain": [
       "<Figure size 432x288 with 1 Axes>"
      ]
     },
     "metadata": {
      "needs_background": "light"
     },
     "output_type": "display_data"
    },
    {
     "data": {
      "image/png": "[encoded data removed]",
      "text/plain": [
       "<Figure size 432x288 with 1 Axes>"
      ]
     },
     "metadata": {
      "needs_background": "light"
     },
     "output_type": "display_data"
    },
    {
     "data": {
      "image/png": "[encoded data removed]",
      "text/plain": [
       "<Figure size 432x288 with 1 Axes>"
      ]
     },
     "metadata": {
      "needs_background": "light"
     },
     "output_type": "display_data"
    },
    {
     "data": {
      "image/png": "[encoded data removed]",
      "text/plain": [
       "<Figure size 432x288 with 1 Axes>"
      ]
     },
     "metadata": {
      "needs_background": "light"
     },
     "output_type": "display_data"
    },
    {
     "data": {
      "image/png": "[encoded data removed]",
      "text/plain": [
       "<Figure size 432x288 with 1 Axes>"
      ]
     },
     "metadata": {
      "needs_background": "light"
     },
     "output_type": "display_data"
    },
    {
     "data": {
      "image/png": "[encoded data removed]",
      "text/plain": [
       "<Figure size 432x288 with 1 Axes>"
      ]
     },
     "metadata": {
      "needs_background": "light"
     },
     "output_type": "display_data"
    },
    {
     "data": {
      "image/png": "[encoded data removed]",
      "text/plain": [
       "<Figure size 432x288 with 1 Axes>"
      ]
     },
     "metadata": {
      "needs_background": "light"
     },
     "output_type": "display_data"
    },
    {
     "data": {
      "image/png": "[encoded data removed]",
      "text/plain": [
       "<Figure size 432x288 with 1 Axes>"
      ]
     },
     "metadata": {
      "needs_background": "light"
     },
     "output_type": "display_data"
    },
    {
     "data": {
      "image/png": "[encoded data removed]",
      "text/plain": [
       "<Figure size 432x288 with 1 Axes>"
      ]
     },
     "metadata": {
      "needs_background": "light"
     },
     "output_type": "display_data"
    },
    {
     "data": {
      "image/png": "[encoded data removed]",
      "text/plain": [
       "<Figure size 432x288 with 1 Axes>"
      ]
     },
     "metadata": {
      "needs_background": "light"
     },
     "output_type": "display_data"
    },
    {
     "data": {
      "image/png": "[encoded data removed]",
      "text/plain": [
       "<Figure size 432x288 with 1 Axes>"
      ]
     },
     "metadata": {
      "needs_background": "light"
     },
     "output_type": "display_data"
    },
    {
     "data": {
      "image/png": "[encoded data removed]",
      "text/plain": [
       "<Figure size 432x288 with 1 Axes>"
      ]
     },
     "metadata": {
      "needs_background": "light"
     },
     "output_type": "display_data"
    },
    {
     "data": {
      "image/png": "[encoded data removed]",
      "text/plain": [
       "<Figure size 432x288 with 1 Axes>"
      ]
     },
     "metadata": {
      "needs_background": "light"
     },
     "output_type": "display_data"
    }
   ],
   "source": [
    "for col in num_cols:\n",
    "    print(col, check_outlier(df, col))\n",
    "\n",
    "\n",
    "for i in num_cols:\n",
    "    if check_outlier(df,i) is True:\n",
    "        sns.boxplot(x=df[i])\n",
    "        plt.show()"
   ]
  },
  {
   "cell_type": "code",
   "execution_count": 31,
   "id": "3ef32df0",
   "metadata": {
    "execution": {
     "iopub.execute_input": "2022-11-21T21:41:44.110021Z",
     "iopub.status.busy": "2022-11-21T21:41:44.109260Z",
     "iopub.status.idle": "2022-11-21T21:41:44.119104Z",
     "shell.execute_reply": "2022-11-21T21:41:44.118230Z"
    },
    "papermill": {
     "duration": 0.03791,
     "end_time": "2022-11-21T21:41:44.121274",
     "exception": false,
     "start_time": "2022-11-21T21:41:44.083364",
     "status": "completed"
    },
    "tags": []
   },
   "outputs": [
    {
     "data": {
      "text/plain": [
       "False"
      ]
     },
     "execution_count": 31,
     "metadata": {},
     "output_type": "execute_result"
    }
   ],
   "source": [
    "df.isnull().values.any()"
   ]
  },
  {
   "cell_type": "markdown",
   "id": "0fa79297",
   "metadata": {
    "papermill": {
     "duration": 0.02391,
     "end_time": "2022-11-21T21:41:44.169681",
     "exception": false,
     "start_time": "2022-11-21T21:41:44.145771",
     "status": "completed"
    },
    "tags": []
   },
   "source": [
    "The threshold is %15-%95 . The rest is replaced with the upper or lower threshold to get rid of outliers "
   ]
  },
  {
   "cell_type": "code",
   "execution_count": 32,
   "id": "f1900993",
   "metadata": {
    "execution": {
     "iopub.execute_input": "2022-11-21T21:41:44.220304Z",
     "iopub.status.busy": "2022-11-21T21:41:44.219570Z",
     "iopub.status.idle": "2022-11-21T21:41:44.281672Z",
     "shell.execute_reply": "2022-11-21T21:41:44.280515Z"
    },
    "papermill": {
     "duration": 0.090496,
     "end_time": "2022-11-21T21:41:44.284328",
     "exception": false,
     "start_time": "2022-11-21T21:41:44.193832",
     "status": "completed"
    },
    "tags": []
   },
   "outputs": [],
   "source": [
    "for col in num_cols:\n",
    "    replace_with_thresholds(df, col)\n"
   ]
  },
  {
   "cell_type": "code",
   "execution_count": 33,
   "id": "4fdfee88",
   "metadata": {
    "execution": {
     "iopub.execute_input": "2022-11-21T21:41:44.334263Z",
     "iopub.status.busy": "2022-11-21T21:41:44.333839Z",
     "iopub.status.idle": "2022-11-21T21:41:44.460340Z",
     "shell.execute_reply": "2022-11-21T21:41:44.459174Z"
    },
    "papermill": {
     "duration": 0.154304,
     "end_time": "2022-11-21T21:41:44.462804",
     "exception": false,
     "start_time": "2022-11-21T21:41:44.308500",
     "status": "completed"
    },
    "tags": []
   },
   "outputs": [
    {
     "name": "stdout",
     "output_type": "stream",
     "text": [
      "MSSubClass False\n",
      "LotArea False\n",
      "YearBuilt False\n",
      "YearRemodAdd False\n",
      "MasVnrArea False\n",
      "BsmtFinSF1 False\n",
      "BsmtFinSF2 False\n",
      "BsmtUnfSF False\n",
      "TotalBsmtSF False\n",
      "2ndFlrSF False\n",
      "LowQualFinSF False\n",
      "GrLivArea False\n",
      "GarageYrBlt False\n",
      "WoodDeckSF False\n",
      "OpenPorchSF False\n",
      "EnclosedPorch False\n",
      "3SsnPorch False\n",
      "ScreenPorch False\n",
      "MiscVal False\n",
      "MoSold False\n",
      "SalePrice False\n"
     ]
    }
   ],
   "source": [
    "for col in num_cols:\n",
    "    print(col, check_outlier(df, col))"
   ]
  },
  {
   "cell_type": "markdown",
   "id": "0e1eb2f1",
   "metadata": {
    "papermill": {
     "duration": 0.023896,
     "end_time": "2022-11-21T21:41:44.511126",
     "exception": false,
     "start_time": "2022-11-21T21:41:44.487230",
     "status": "completed"
    },
    "tags": []
   },
   "source": [
    "let's run one hot encoder function on categorical columns.'Neighborhood' column is too unique to encode,so droping it would be a better solution"
   ]
  },
  {
   "cell_type": "code",
   "execution_count": 34,
   "id": "5e1dbe85",
   "metadata": {
    "execution": {
     "iopub.execute_input": "2022-11-21T21:41:44.560849Z",
     "iopub.status.busy": "2022-11-21T21:41:44.560461Z",
     "iopub.status.idle": "2022-11-21T21:41:44.607179Z",
     "shell.execute_reply": "2022-11-21T21:41:44.606133Z"
    },
    "papermill": {
     "duration": 0.074616,
     "end_time": "2022-11-21T21:41:44.609688",
     "exception": false,
     "start_time": "2022-11-21T21:41:44.535072",
     "status": "completed"
    },
    "tags": []
   },
   "outputs": [],
   "source": [
    "df = one_hot_encoder(df, cat_cols, drop_first=True)"
   ]
  },
  {
   "cell_type": "code",
   "execution_count": 35,
   "id": "88f36b37",
   "metadata": {
    "execution": {
     "iopub.execute_input": "2022-11-21T21:41:44.660805Z",
     "iopub.status.busy": "2022-11-21T21:41:44.659836Z",
     "iopub.status.idle": "2022-11-21T21:41:44.666780Z",
     "shell.execute_reply": "2022-11-21T21:41:44.666006Z"
    },
    "papermill": {
     "duration": 0.034483,
     "end_time": "2022-11-21T21:41:44.668770",
     "exception": false,
     "start_time": "2022-11-21T21:41:44.634287",
     "status": "completed"
    },
    "tags": []
   },
   "outputs": [
    {
     "data": {
      "text/plain": [
       "array(['CollgCr', 'Veenker', 'Crawfor', 'NoRidge', 'Mitchel', 'Somerst',\n",
       "       'NWAmes', 'OldTown', 'BrkSide', 'Sawyer', 'NridgHt', 'NAmes',\n",
       "       'SawyerW', 'IDOTRR', 'MeadowV', 'Edwards', 'Timber', 'Gilbert',\n",
       "       'StoneBr', 'ClearCr', 'NPkVill', 'Blmngtn', 'BrDale', 'SWISU',\n",
       "       'Blueste'], dtype=object)"
      ]
     },
     "execution_count": 35,
     "metadata": {},
     "output_type": "execute_result"
    }
   ],
   "source": [
    "df['Neighborhood'].unique()"
   ]
  },
  {
   "cell_type": "code",
   "execution_count": 36,
   "id": "bd2da4e1",
   "metadata": {
    "execution": {
     "iopub.execute_input": "2022-11-21T21:41:44.720095Z",
     "iopub.status.busy": "2022-11-21T21:41:44.719313Z",
     "iopub.status.idle": "2022-11-21T21:41:44.726243Z",
     "shell.execute_reply": "2022-11-21T21:41:44.725450Z"
    },
    "papermill": {
     "duration": 0.03501,
     "end_time": "2022-11-21T21:41:44.728250",
     "exception": false,
     "start_time": "2022-11-21T21:41:44.693240",
     "status": "completed"
    },
    "tags": []
   },
   "outputs": [],
   "source": [
    "df.drop(\"Neighborhood\",inplace=True, axis=1)\n"
   ]
  },
  {
   "cell_type": "markdown",
   "id": "7f28a42c",
   "metadata": {
    "papermill": {
     "duration": 0.024082,
     "end_time": "2022-11-21T21:41:44.776887",
     "exception": false,
     "start_time": "2022-11-21T21:41:44.752805",
     "status": "completed"
    },
    "tags": []
   },
   "source": [
    "after handling categorical columns with encoder, not its time to scale all the numerical columns left"
   ]
  },
  {
   "cell_type": "code",
   "execution_count": 37,
   "id": "2d55feba",
   "metadata": {
    "execution": {
     "iopub.execute_input": "2022-11-21T21:41:44.828144Z",
     "iopub.status.busy": "2022-11-21T21:41:44.827492Z",
     "iopub.status.idle": "2022-11-21T21:41:44.841790Z",
     "shell.execute_reply": "2022-11-21T21:41:44.840433Z"
    },
    "papermill": {
     "duration": 0.042674,
     "end_time": "2022-11-21T21:41:44.844082",
     "exception": false,
     "start_time": "2022-11-21T21:41:44.801408",
     "status": "completed"
    },
    "tags": []
   },
   "outputs": [],
   "source": [
    "X_scaled = StandardScaler().fit_transform(df[num_cols])\n",
    "df[num_cols] = pd.DataFrame(X_scaled, columns=df[num_cols].columns)"
   ]
  },
  {
   "cell_type": "code",
   "execution_count": 38,
   "id": "f5b972e8",
   "metadata": {
    "execution": {
     "iopub.execute_input": "2022-11-21T21:41:44.894783Z",
     "iopub.status.busy": "2022-11-21T21:41:44.894379Z",
     "iopub.status.idle": "2022-11-21T21:41:44.943390Z",
     "shell.execute_reply": "2022-11-21T21:41:44.941651Z"
    },
    "papermill": {
     "duration": 0.07724,
     "end_time": "2022-11-21T21:41:44.945683",
     "exception": false,
     "start_time": "2022-11-21T21:41:44.868443",
     "status": "completed"
    },
    "tags": []
   },
   "outputs": [
    {
     "name": "stdout",
     "output_type": "stream",
     "text": [
      "Observations: 1460\n",
      "Variables: 250\n",
      "cat_cols: 232\n",
      "num_cols: 18\n",
      "cat_but_car: 0\n",
      "num_but_cat: 232\n"
     ]
    }
   ],
   "source": [
    "cat_cols, num_cols, cat_but_car = grab_col_names(df, cat_th=5, car_th=20)"
   ]
  },
  {
   "cell_type": "code",
   "execution_count": 39,
   "id": "143f08f2",
   "metadata": {
    "execution": {
     "iopub.execute_input": "2022-11-21T21:41:44.997251Z",
     "iopub.status.busy": "2022-11-21T21:41:44.995908Z",
     "iopub.status.idle": "2022-11-21T21:41:45.123214Z",
     "shell.execute_reply": "2022-11-21T21:41:45.121993Z"
    },
    "papermill": {
     "duration": 0.158065,
     "end_time": "2022-11-21T21:41:45.128078",
     "exception": false,
     "start_time": "2022-11-21T21:41:44.970013",
     "status": "completed"
    },
    "tags": []
   },
   "outputs": [
    {
     "data": {
      "text/html": [
       "<div>\n",
       "<style scoped>\n",
       "    .dataframe tbody tr th:only-of-type {\n",
       "        vertical-align: middle;\n",
       "    }\n",
       "\n",
       "    .dataframe tbody tr th {\n",
       "        vertical-align: top;\n",
       "    }\n",
       "\n",
       "    .dataframe thead th {\n",
       "        text-align: right;\n",
       "    }\n",
       "</style>\n",
       "<table border=\"1\" class=\"dataframe\">\n",
       "  <thead>\n",
       "    <tr style=\"text-align: right;\">\n",
       "      <th></th>\n",
       "      <th>MSSubClass</th>\n",
       "      <th>LotArea</th>\n",
       "      <th>YearBuilt</th>\n",
       "      <th>YearRemodAdd</th>\n",
       "      <th>MasVnrArea</th>\n",
       "      <th>BsmtFinSF1</th>\n",
       "      <th>BsmtFinSF2</th>\n",
       "      <th>BsmtUnfSF</th>\n",
       "      <th>TotalBsmtSF</th>\n",
       "      <th>2ndFlrSF</th>\n",
       "      <th>LowQualFinSF</th>\n",
       "      <th>GrLivArea</th>\n",
       "      <th>GarageYrBlt</th>\n",
       "      <th>WoodDeckSF</th>\n",
       "      <th>OpenPorchSF</th>\n",
       "      <th>EnclosedPorch</th>\n",
       "      <th>3SsnPorch</th>\n",
       "      <th>ScreenPorch</th>\n",
       "      <th>MiscVal</th>\n",
       "      <th>MoSold</th>\n",
       "      <th>SalePrice</th>\n",
       "      <th>MSZoning_FV</th>\n",
       "      <th>MSZoning_RH</th>\n",
       "      <th>MSZoning_RL</th>\n",
       "      <th>MSZoning_RM</th>\n",
       "      <th>Street_Pave</th>\n",
       "      <th>LotShape_IR2</th>\n",
       "      <th>LotShape_IR3</th>\n",
       "      <th>LotShape_Reg</th>\n",
       "      <th>LandContour_HLS</th>\n",
       "      <th>LandContour_Low</th>\n",
       "      <th>LandContour_Lvl</th>\n",
       "      <th>Utilities_NoSeWa</th>\n",
       "      <th>LotConfig_CulDSac</th>\n",
       "      <th>LotConfig_FR2</th>\n",
       "      <th>LotConfig_FR3</th>\n",
       "      <th>LotConfig_Inside</th>\n",
       "      <th>LandSlope_Mod</th>\n",
       "      <th>LandSlope_Sev</th>\n",
       "      <th>Condition1_Feedr</th>\n",
       "      <th>Condition1_Norm</th>\n",
       "      <th>Condition1_PosA</th>\n",
       "      <th>Condition1_PosN</th>\n",
       "      <th>Condition1_RRAe</th>\n",
       "      <th>Condition1_RRAn</th>\n",
       "      <th>Condition1_RRNe</th>\n",
       "      <th>Condition1_RRNn</th>\n",
       "      <th>Condition2_Feedr</th>\n",
       "      <th>Condition2_Norm</th>\n",
       "      <th>Condition2_PosA</th>\n",
       "      <th>Condition2_PosN</th>\n",
       "      <th>Condition2_RRAe</th>\n",
       "      <th>Condition2_RRAn</th>\n",
       "      <th>Condition2_RRNn</th>\n",
       "      <th>BldgType_2fmCon</th>\n",
       "      <th>BldgType_Duplex</th>\n",
       "      <th>BldgType_Twnhs</th>\n",
       "      <th>BldgType_TwnhsE</th>\n",
       "      <th>HouseStyle_1.5Unf</th>\n",
       "      <th>HouseStyle_1Story</th>\n",
       "      <th>HouseStyle_2.5Fin</th>\n",
       "      <th>HouseStyle_2.5Unf</th>\n",
       "      <th>HouseStyle_2Story</th>\n",
       "      <th>HouseStyle_SFoyer</th>\n",
       "      <th>HouseStyle_SLvl</th>\n",
       "      <th>Exterior1st_AsphShn</th>\n",
       "      <th>Exterior1st_BrkComm</th>\n",
       "      <th>Exterior1st_BrkFace</th>\n",
       "      <th>Exterior1st_CBlock</th>\n",
       "      <th>Exterior1st_CemntBd</th>\n",
       "      <th>Exterior1st_HdBoard</th>\n",
       "      <th>Exterior1st_ImStucc</th>\n",
       "      <th>Exterior1st_MetalSd</th>\n",
       "      <th>Exterior1st_Plywood</th>\n",
       "      <th>Exterior1st_Stone</th>\n",
       "      <th>Exterior1st_Stucco</th>\n",
       "      <th>Exterior1st_VinylSd</th>\n",
       "      <th>Exterior1st_Wd Sdng</th>\n",
       "      <th>Exterior1st_WdShing</th>\n",
       "      <th>Exterior2nd_AsphShn</th>\n",
       "      <th>Exterior2nd_Brk Cmn</th>\n",
       "      <th>Exterior2nd_BrkFace</th>\n",
       "      <th>Exterior2nd_CBlock</th>\n",
       "      <th>Exterior2nd_CmentBd</th>\n",
       "      <th>Exterior2nd_HdBoard</th>\n",
       "      <th>Exterior2nd_ImStucc</th>\n",
       "      <th>Exterior2nd_MetalSd</th>\n",
       "      <th>Exterior2nd_Other</th>\n",
       "      <th>Exterior2nd_Plywood</th>\n",
       "      <th>Exterior2nd_Stone</th>\n",
       "      <th>Exterior2nd_Stucco</th>\n",
       "      <th>Exterior2nd_VinylSd</th>\n",
       "      <th>Exterior2nd_Wd Sdng</th>\n",
       "      <th>Exterior2nd_Wd Shng</th>\n",
       "      <th>MasVnrType_BrkFace</th>\n",
       "      <th>MasVnrType_None</th>\n",
       "      <th>MasVnrType_Stone</th>\n",
       "      <th>MasVnrType_Unknown</th>\n",
       "      <th>ExterQual_Fa</th>\n",
       "      <th>ExterQual_Gd</th>\n",
       "      <th>ExterQual_TA</th>\n",
       "      <th>ExterCond_Fa</th>\n",
       "      <th>ExterCond_Gd</th>\n",
       "      <th>ExterCond_Po</th>\n",
       "      <th>ExterCond_TA</th>\n",
       "      <th>Foundation_CBlock</th>\n",
       "      <th>Foundation_PConc</th>\n",
       "      <th>Foundation_Slab</th>\n",
       "      <th>Foundation_Stone</th>\n",
       "      <th>Foundation_Wood</th>\n",
       "      <th>BsmtQual_Fa</th>\n",
       "      <th>BsmtQual_Gd</th>\n",
       "      <th>BsmtQual_TA</th>\n",
       "      <th>BsmtQual_Unknown</th>\n",
       "      <th>BsmtCond_Gd</th>\n",
       "      <th>BsmtCond_Po</th>\n",
       "      <th>BsmtCond_TA</th>\n",
       "      <th>BsmtCond_Unknown</th>\n",
       "      <th>BsmtExposure_Gd</th>\n",
       "      <th>BsmtExposure_Mn</th>\n",
       "      <th>BsmtExposure_No</th>\n",
       "      <th>BsmtExposure_Unknown</th>\n",
       "      <th>BsmtFinType1_BLQ</th>\n",
       "      <th>BsmtFinType1_GLQ</th>\n",
       "      <th>BsmtFinType1_LwQ</th>\n",
       "      <th>BsmtFinType1_Rec</th>\n",
       "      <th>BsmtFinType1_Unf</th>\n",
       "      <th>BsmtFinType1_Unknown</th>\n",
       "      <th>BsmtFinType2_BLQ</th>\n",
       "      <th>BsmtFinType2_GLQ</th>\n",
       "      <th>BsmtFinType2_LwQ</th>\n",
       "      <th>BsmtFinType2_Rec</th>\n",
       "      <th>BsmtFinType2_Unf</th>\n",
       "      <th>BsmtFinType2_Unknown</th>\n",
       "      <th>Heating_GasA</th>\n",
       "      <th>Heating_GasW</th>\n",
       "      <th>Heating_Grav</th>\n",
       "      <th>Heating_OthW</th>\n",
       "      <th>Heating_Wall</th>\n",
       "      <th>HeatingQC_Fa</th>\n",
       "      <th>HeatingQC_Gd</th>\n",
       "      <th>HeatingQC_Po</th>\n",
       "      <th>HeatingQC_TA</th>\n",
       "      <th>CentralAir_Y</th>\n",
       "      <th>Electrical_FuseF</th>\n",
       "      <th>Electrical_FuseP</th>\n",
       "      <th>Electrical_Mix</th>\n",
       "      <th>Electrical_SBrkr</th>\n",
       "      <th>Electrical_Unknown</th>\n",
       "      <th>KitchenQual_Fa</th>\n",
       "      <th>KitchenQual_Gd</th>\n",
       "      <th>KitchenQual_TA</th>\n",
       "      <th>Functional_Maj2</th>\n",
       "      <th>Functional_Min1</th>\n",
       "      <th>Functional_Min2</th>\n",
       "      <th>Functional_Mod</th>\n",
       "      <th>Functional_Sev</th>\n",
       "      <th>Functional_Typ</th>\n",
       "      <th>GarageType_Attchd</th>\n",
       "      <th>GarageType_Basment</th>\n",
       "      <th>GarageType_BuiltIn</th>\n",
       "      <th>GarageType_CarPort</th>\n",
       "      <th>GarageType_Detchd</th>\n",
       "      <th>GarageType_Unknown</th>\n",
       "      <th>GarageFinish_RFn</th>\n",
       "      <th>GarageFinish_Unf</th>\n",
       "      <th>GarageFinish_Unknown</th>\n",
       "      <th>GarageQual_Fa</th>\n",
       "      <th>GarageQual_Gd</th>\n",
       "      <th>GarageQual_Po</th>\n",
       "      <th>GarageQual_TA</th>\n",
       "      <th>GarageQual_Unknown</th>\n",
       "      <th>GarageCond_Fa</th>\n",
       "      <th>GarageCond_Gd</th>\n",
       "      <th>GarageCond_Po</th>\n",
       "      <th>GarageCond_TA</th>\n",
       "      <th>GarageCond_Unknown</th>\n",
       "      <th>PavedDrive_P</th>\n",
       "      <th>PavedDrive_Y</th>\n",
       "      <th>SaleType_CWD</th>\n",
       "      <th>SaleType_Con</th>\n",
       "      <th>SaleType_ConLD</th>\n",
       "      <th>SaleType_ConLI</th>\n",
       "      <th>SaleType_ConLw</th>\n",
       "      <th>SaleType_New</th>\n",
       "      <th>SaleType_Oth</th>\n",
       "      <th>SaleType_WD</th>\n",
       "      <th>SaleCondition_AdjLand</th>\n",
       "      <th>SaleCondition_Alloca</th>\n",
       "      <th>SaleCondition_Family</th>\n",
       "      <th>SaleCondition_Normal</th>\n",
       "      <th>SaleCondition_Partial</th>\n",
       "      <th>Roof_Flat-Membran</th>\n",
       "      <th>Roof_Flat-Metal</th>\n",
       "      <th>Roof_Flat-Tar&amp;Grv</th>\n",
       "      <th>Roof_Gable-CompShg</th>\n",
       "      <th>Roof_Gable-Roll</th>\n",
       "      <th>Roof_Gable-Tar&amp;Grv</th>\n",
       "      <th>Roof_Gable-WdShngl</th>\n",
       "      <th>Roof_Gambrel-CompShg</th>\n",
       "      <th>Roof_Hip-ClyTile</th>\n",
       "      <th>Roof_Hip-CompShg</th>\n",
       "      <th>Roof_Hip-WdShake</th>\n",
       "      <th>Roof_Hip-WdShngl</th>\n",
       "      <th>Roof_Mansard-CompShg</th>\n",
       "      <th>Roof_Mansard-WdShake</th>\n",
       "      <th>Roof_Shed-CompShg</th>\n",
       "      <th>Roof_Shed-WdShake</th>\n",
       "      <th>BsmtFullBath_1</th>\n",
       "      <th>BsmtFullBath_2</th>\n",
       "      <th>BsmtFullBath_3</th>\n",
       "      <th>BsmtHalfBath_1</th>\n",
       "      <th>BsmtHalfBath_2</th>\n",
       "      <th>FullBath_1</th>\n",
       "      <th>FullBath_2</th>\n",
       "      <th>FullBath_3</th>\n",
       "      <th>HalfBath_1</th>\n",
       "      <th>HalfBath_2</th>\n",
       "      <th>BedroomAbvGr_1</th>\n",
       "      <th>BedroomAbvGr_2</th>\n",
       "      <th>BedroomAbvGr_3</th>\n",
       "      <th>BedroomAbvGr_4</th>\n",
       "      <th>BedroomAbvGr_5</th>\n",
       "      <th>BedroomAbvGr_6</th>\n",
       "      <th>BedroomAbvGr_8</th>\n",
       "      <th>KitchenAbvGr_1</th>\n",
       "      <th>KitchenAbvGr_2</th>\n",
       "      <th>KitchenAbvGr_3</th>\n",
       "      <th>Fireplaces_1</th>\n",
       "      <th>Fireplaces_2</th>\n",
       "      <th>Fireplaces_3</th>\n",
       "      <th>GarageCars_1</th>\n",
       "      <th>GarageCars_2</th>\n",
       "      <th>GarageCars_3</th>\n",
       "      <th>GarageCars_4</th>\n",
       "      <th>PoolArea_480</th>\n",
       "      <th>PoolArea_512</th>\n",
       "      <th>PoolArea_519</th>\n",
       "      <th>PoolArea_555</th>\n",
       "      <th>PoolArea_576</th>\n",
       "      <th>PoolArea_648</th>\n",
       "      <th>PoolArea_738</th>\n",
       "      <th>YrSold_2007</th>\n",
       "      <th>YrSold_2008</th>\n",
       "      <th>YrSold_2009</th>\n",
       "      <th>YrSold_2010</th>\n",
       "      <th>Overall_3.0</th>\n",
       "      <th>Overall_4.0</th>\n",
       "      <th>Overall_5.0</th>\n",
       "      <th>Overall_6.0</th>\n",
       "    </tr>\n",
       "  </thead>\n",
       "  <tbody>\n",
       "    <tr>\n",
       "      <th>0</th>\n",
       "      <td>0.073</td>\n",
       "      <td>-0.327</td>\n",
       "      <td>1.051</td>\n",
       "      <td>0.879</td>\n",
       "      <td>0.524</td>\n",
       "      <td>0.599</td>\n",
       "      <td>-0.294</td>\n",
       "      <td>-0.945</td>\n",
       "      <td>-0.473</td>\n",
       "      <td>1.162</td>\n",
       "      <td>0.000</td>\n",
       "      <td>0.377</td>\n",
       "      <td>1.021</td>\n",
       "      <td>-0.753</td>\n",
       "      <td>0.223</td>\n",
       "      <td>-0.361</td>\n",
       "      <td>0.000</td>\n",
       "      <td>-0.272</td>\n",
       "      <td>0.000</td>\n",
       "      <td>-1.599</td>\n",
       "      <td>0.355</td>\n",
       "      <td>0</td>\n",
       "      <td>0</td>\n",
       "      <td>1</td>\n",
       "      <td>0</td>\n",
       "      <td>1</td>\n",
       "      <td>0</td>\n",
       "      <td>0</td>\n",
       "      <td>1</td>\n",
       "      <td>0</td>\n",
       "      <td>0</td>\n",
       "      <td>1</td>\n",
       "      <td>0</td>\n",
       "      <td>0</td>\n",
       "      <td>0</td>\n",
       "      <td>0</td>\n",
       "      <td>1</td>\n",
       "      <td>0</td>\n",
       "      <td>0</td>\n",
       "      <td>0</td>\n",
       "      <td>1</td>\n",
       "      <td>0</td>\n",
       "      <td>0</td>\n",
       "      <td>0</td>\n",
       "      <td>0</td>\n",
       "      <td>0</td>\n",
       "      <td>0</td>\n",
       "      <td>0</td>\n",
       "      <td>1</td>\n",
       "      <td>0</td>\n",
       "      <td>0</td>\n",
       "      <td>0</td>\n",
       "      <td>0</td>\n",
       "      <td>0</td>\n",
       "      <td>0</td>\n",
       "      <td>0</td>\n",
       "      <td>0</td>\n",
       "      <td>0</td>\n",
       "      <td>0</td>\n",
       "      <td>0</td>\n",
       "      <td>0</td>\n",
       "      <td>0</td>\n",
       "      <td>1</td>\n",
       "      <td>0</td>\n",
       "      <td>0</td>\n",
       "      <td>0</td>\n",
       "      <td>0</td>\n",
       "      <td>0</td>\n",
       "      <td>0</td>\n",
       "      <td>0</td>\n",
       "      <td>0</td>\n",
       "      <td>0</td>\n",
       "      <td>0</td>\n",
       "      <td>0</td>\n",
       "      <td>0</td>\n",
       "      <td>0</td>\n",
       "      <td>1</td>\n",
       "      <td>0</td>\n",
       "      <td>0</td>\n",
       "      <td>0</td>\n",
       "      <td>0</td>\n",
       "      <td>0</td>\n",
       "      <td>0</td>\n",
       "      <td>0</td>\n",
       "      <td>0</td>\n",
       "      <td>0</td>\n",
       "      <td>0</td>\n",
       "      <td>0</td>\n",
       "      <td>0</td>\n",
       "      <td>0</td>\n",
       "      <td>0</td>\n",
       "      <td>1</td>\n",
       "      <td>0</td>\n",
       "      <td>0</td>\n",
       "      <td>1</td>\n",
       "      <td>0</td>\n",
       "      <td>0</td>\n",
       "      <td>0</td>\n",
       "      <td>0</td>\n",
       "      <td>1</td>\n",
       "      <td>0</td>\n",
       "      <td>0</td>\n",
       "      <td>0</td>\n",
       "      <td>0</td>\n",
       "      <td>1</td>\n",
       "      <td>0</td>\n",
       "      <td>1</td>\n",
       "      <td>0</td>\n",
       "      <td>0</td>\n",
       "      <td>0</td>\n",
       "      <td>0</td>\n",
       "      <td>1</td>\n",
       "      <td>0</td>\n",
       "      <td>0</td>\n",
       "      <td>0</td>\n",
       "      <td>0</td>\n",
       "      <td>1</td>\n",
       "      <td>0</td>\n",
       "      <td>0</td>\n",
       "      <td>0</td>\n",
       "      <td>1</td>\n",
       "      <td>0</td>\n",
       "      <td>0</td>\n",
       "      <td>1</td>\n",
       "      <td>0</td>\n",
       "      <td>0</td>\n",
       "      <td>0</td>\n",
       "      <td>0</td>\n",
       "      <td>0</td>\n",
       "      <td>0</td>\n",
       "      <td>0</td>\n",
       "      <td>0</td>\n",
       "      <td>1</td>\n",
       "      <td>0</td>\n",
       "      <td>1</td>\n",
       "      <td>0</td>\n",
       "      <td>0</td>\n",
       "      <td>0</td>\n",
       "      <td>0</td>\n",
       "      <td>0</td>\n",
       "      <td>0</td>\n",
       "      <td>0</td>\n",
       "      <td>0</td>\n",
       "      <td>1</td>\n",
       "      <td>0</td>\n",
       "      <td>0</td>\n",
       "      <td>0</td>\n",
       "      <td>1</td>\n",
       "      <td>0</td>\n",
       "      <td>0</td>\n",
       "      <td>1</td>\n",
       "      <td>0</td>\n",
       "      <td>0</td>\n",
       "      <td>0</td>\n",
       "      <td>0</td>\n",
       "      <td>0</td>\n",
       "      <td>0</td>\n",
       "      <td>1</td>\n",
       "      <td>1</td>\n",
       "      <td>0</td>\n",
       "      <td>0</td>\n",
       "      <td>0</td>\n",
       "      <td>0</td>\n",
       "      <td>0</td>\n",
       "      <td>1</td>\n",
       "      <td>0</td>\n",
       "      <td>0</td>\n",
       "      <td>0</td>\n",
       "      <td>0</td>\n",
       "      <td>0</td>\n",
       "      <td>1</td>\n",
       "      <td>0</td>\n",
       "      <td>0</td>\n",
       "      <td>0</td>\n",
       "      <td>0</td>\n",
       "      <td>1</td>\n",
       "      <td>0</td>\n",
       "      <td>0</td>\n",
       "      <td>1</td>\n",
       "      <td>0</td>\n",
       "      <td>0</td>\n",
       "      <td>0</td>\n",
       "      <td>0</td>\n",
       "      <td>0</td>\n",
       "      <td>0</td>\n",
       "      <td>0</td>\n",
       "      <td>1</td>\n",
       "      <td>0</td>\n",
       "      <td>0</td>\n",
       "      <td>0</td>\n",
       "      <td>1</td>\n",
       "      <td>0</td>\n",
       "      <td>0</td>\n",
       "      <td>0</td>\n",
       "      <td>0</td>\n",
       "      <td>1</td>\n",
       "      <td>0</td>\n",
       "      <td>0</td>\n",
       "      <td>0</td>\n",
       "      <td>0</td>\n",
       "      <td>0</td>\n",
       "      <td>0</td>\n",
       "      <td>0</td>\n",
       "      <td>0</td>\n",
       "      <td>0</td>\n",
       "      <td>0</td>\n",
       "      <td>0</td>\n",
       "      <td>0</td>\n",
       "      <td>1</td>\n",
       "      <td>0</td>\n",
       "      <td>0</td>\n",
       "      <td>0</td>\n",
       "      <td>0</td>\n",
       "      <td>0</td>\n",
       "      <td>1</td>\n",
       "      <td>0</td>\n",
       "      <td>1</td>\n",
       "      <td>0</td>\n",
       "      <td>0</td>\n",
       "      <td>0</td>\n",
       "      <td>1</td>\n",
       "      <td>0</td>\n",
       "      <td>0</td>\n",
       "      <td>0</td>\n",
       "      <td>0</td>\n",
       "      <td>1</td>\n",
       "      <td>0</td>\n",
       "      <td>0</td>\n",
       "      <td>0</td>\n",
       "      <td>0</td>\n",
       "      <td>0</td>\n",
       "      <td>0</td>\n",
       "      <td>1</td>\n",
       "      <td>0</td>\n",
       "      <td>0</td>\n",
       "      <td>0</td>\n",
       "      <td>0</td>\n",
       "      <td>0</td>\n",
       "      <td>0</td>\n",
       "      <td>0</td>\n",
       "      <td>0</td>\n",
       "      <td>0</td>\n",
       "      <td>0</td>\n",
       "      <td>1</td>\n",
       "      <td>0</td>\n",
       "      <td>0</td>\n",
       "      <td>0</td>\n",
       "      <td>0</td>\n",
       "      <td>1</td>\n",
       "      <td>0</td>\n",
       "    </tr>\n",
       "    <tr>\n",
       "      <th>1</th>\n",
       "      <td>-0.873</td>\n",
       "      <td>-0.084</td>\n",
       "      <td>0.157</td>\n",
       "      <td>-0.430</td>\n",
       "      <td>-0.583</td>\n",
       "      <td>1.215</td>\n",
       "      <td>-0.294</td>\n",
       "      <td>-0.641</td>\n",
       "      <td>0.490</td>\n",
       "      <td>-0.795</td>\n",
       "      <td>0.000</td>\n",
       "      <td>-0.487</td>\n",
       "      <td>-0.104</td>\n",
       "      <td>1.627</td>\n",
       "      <td>-0.715</td>\n",
       "      <td>-0.361</td>\n",
       "      <td>0.000</td>\n",
       "      <td>-0.272</td>\n",
       "      <td>0.000</td>\n",
       "      <td>-0.489</td>\n",
       "      <td>0.010</td>\n",
       "      <td>0</td>\n",
       "      <td>0</td>\n",
       "      <td>1</td>\n",
       "      <td>0</td>\n",
       "      <td>1</td>\n",
       "      <td>0</td>\n",
       "      <td>0</td>\n",
       "      <td>1</td>\n",
       "      <td>0</td>\n",
       "      <td>0</td>\n",
       "      <td>1</td>\n",
       "      <td>0</td>\n",
       "      <td>0</td>\n",
       "      <td>1</td>\n",
       "      <td>0</td>\n",
       "      <td>0</td>\n",
       "      <td>0</td>\n",
       "      <td>0</td>\n",
       "      <td>1</td>\n",
       "      <td>0</td>\n",
       "      <td>0</td>\n",
       "      <td>0</td>\n",
       "      <td>0</td>\n",
       "      <td>0</td>\n",
       "      <td>0</td>\n",
       "      <td>0</td>\n",
       "      <td>0</td>\n",
       "      <td>1</td>\n",
       "      <td>0</td>\n",
       "      <td>0</td>\n",
       "      <td>0</td>\n",
       "      <td>0</td>\n",
       "      <td>0</td>\n",
       "      <td>0</td>\n",
       "      <td>0</td>\n",
       "      <td>0</td>\n",
       "      <td>0</td>\n",
       "      <td>0</td>\n",
       "      <td>1</td>\n",
       "      <td>0</td>\n",
       "      <td>0</td>\n",
       "      <td>0</td>\n",
       "      <td>0</td>\n",
       "      <td>0</td>\n",
       "      <td>0</td>\n",
       "      <td>0</td>\n",
       "      <td>0</td>\n",
       "      <td>0</td>\n",
       "      <td>0</td>\n",
       "      <td>0</td>\n",
       "      <td>0</td>\n",
       "      <td>1</td>\n",
       "      <td>0</td>\n",
       "      <td>0</td>\n",
       "      <td>0</td>\n",
       "      <td>0</td>\n",
       "      <td>0</td>\n",
       "      <td>0</td>\n",
       "      <td>0</td>\n",
       "      <td>0</td>\n",
       "      <td>0</td>\n",
       "      <td>0</td>\n",
       "      <td>0</td>\n",
       "      <td>0</td>\n",
       "      <td>0</td>\n",
       "      <td>1</td>\n",
       "      <td>0</td>\n",
       "      <td>0</td>\n",
       "      <td>0</td>\n",
       "      <td>0</td>\n",
       "      <td>0</td>\n",
       "      <td>0</td>\n",
       "      <td>0</td>\n",
       "      <td>0</td>\n",
       "      <td>1</td>\n",
       "      <td>0</td>\n",
       "      <td>0</td>\n",
       "      <td>0</td>\n",
       "      <td>0</td>\n",
       "      <td>1</td>\n",
       "      <td>0</td>\n",
       "      <td>0</td>\n",
       "      <td>0</td>\n",
       "      <td>1</td>\n",
       "      <td>1</td>\n",
       "      <td>0</td>\n",
       "      <td>0</td>\n",
       "      <td>0</td>\n",
       "      <td>0</td>\n",
       "      <td>0</td>\n",
       "      <td>1</td>\n",
       "      <td>0</td>\n",
       "      <td>0</td>\n",
       "      <td>0</td>\n",
       "      <td>0</td>\n",
       "      <td>1</td>\n",
       "      <td>0</td>\n",
       "      <td>1</td>\n",
       "      <td>0</td>\n",
       "      <td>0</td>\n",
       "      <td>0</td>\n",
       "      <td>0</td>\n",
       "      <td>0</td>\n",
       "      <td>0</td>\n",
       "      <td>0</td>\n",
       "      <td>0</td>\n",
       "      <td>0</td>\n",
       "      <td>0</td>\n",
       "      <td>0</td>\n",
       "      <td>0</td>\n",
       "      <td>0</td>\n",
       "      <td>1</td>\n",
       "      <td>0</td>\n",
       "      <td>1</td>\n",
       "      <td>0</td>\n",
       "      <td>0</td>\n",
       "      <td>0</td>\n",
       "      <td>0</td>\n",
       "      <td>0</td>\n",
       "      <td>0</td>\n",
       "      <td>0</td>\n",
       "      <td>0</td>\n",
       "      <td>1</td>\n",
       "      <td>0</td>\n",
       "      <td>0</td>\n",
       "      <td>0</td>\n",
       "      <td>1</td>\n",
       "      <td>0</td>\n",
       "      <td>0</td>\n",
       "      <td>0</td>\n",
       "      <td>1</td>\n",
       "      <td>0</td>\n",
       "      <td>0</td>\n",
       "      <td>0</td>\n",
       "      <td>0</td>\n",
       "      <td>0</td>\n",
       "      <td>1</td>\n",
       "      <td>1</td>\n",
       "      <td>0</td>\n",
       "      <td>0</td>\n",
       "      <td>0</td>\n",
       "      <td>0</td>\n",
       "      <td>0</td>\n",
       "      <td>1</td>\n",
       "      <td>0</td>\n",
       "      <td>0</td>\n",
       "      <td>0</td>\n",
       "      <td>0</td>\n",
       "      <td>0</td>\n",
       "      <td>1</td>\n",
       "      <td>0</td>\n",
       "      <td>0</td>\n",
       "      <td>0</td>\n",
       "      <td>0</td>\n",
       "      <td>1</td>\n",
       "      <td>0</td>\n",
       "      <td>0</td>\n",
       "      <td>1</td>\n",
       "      <td>0</td>\n",
       "      <td>0</td>\n",
       "      <td>0</td>\n",
       "      <td>0</td>\n",
       "      <td>0</td>\n",
       "      <td>0</td>\n",
       "      <td>0</td>\n",
       "      <td>1</td>\n",
       "      <td>0</td>\n",
       "      <td>0</td>\n",
       "      <td>0</td>\n",
       "      <td>1</td>\n",
       "      <td>0</td>\n",
       "      <td>0</td>\n",
       "      <td>0</td>\n",
       "      <td>0</td>\n",
       "      <td>1</td>\n",
       "      <td>0</td>\n",
       "      <td>0</td>\n",
       "      <td>0</td>\n",
       "      <td>0</td>\n",
       "      <td>0</td>\n",
       "      <td>0</td>\n",
       "      <td>0</td>\n",
       "      <td>0</td>\n",
       "      <td>0</td>\n",
       "      <td>0</td>\n",
       "      <td>0</td>\n",
       "      <td>0</td>\n",
       "      <td>0</td>\n",
       "      <td>0</td>\n",
       "      <td>0</td>\n",
       "      <td>1</td>\n",
       "      <td>0</td>\n",
       "      <td>0</td>\n",
       "      <td>1</td>\n",
       "      <td>0</td>\n",
       "      <td>0</td>\n",
       "      <td>0</td>\n",
       "      <td>0</td>\n",
       "      <td>0</td>\n",
       "      <td>1</td>\n",
       "      <td>0</td>\n",
       "      <td>0</td>\n",
       "      <td>0</td>\n",
       "      <td>0</td>\n",
       "      <td>1</td>\n",
       "      <td>0</td>\n",
       "      <td>0</td>\n",
       "      <td>1</td>\n",
       "      <td>0</td>\n",
       "      <td>0</td>\n",
       "      <td>0</td>\n",
       "      <td>1</td>\n",
       "      <td>0</td>\n",
       "      <td>0</td>\n",
       "      <td>0</td>\n",
       "      <td>0</td>\n",
       "      <td>0</td>\n",
       "      <td>0</td>\n",
       "      <td>0</td>\n",
       "      <td>0</td>\n",
       "      <td>0</td>\n",
       "      <td>1</td>\n",
       "      <td>0</td>\n",
       "      <td>0</td>\n",
       "      <td>0</td>\n",
       "      <td>0</td>\n",
       "      <td>0</td>\n",
       "      <td>1</td>\n",
       "      <td>0</td>\n",
       "    </tr>\n",
       "    <tr>\n",
       "      <th>2</th>\n",
       "      <td>0.073</td>\n",
       "      <td>0.265</td>\n",
       "      <td>0.985</td>\n",
       "      <td>0.830</td>\n",
       "      <td>0.332</td>\n",
       "      <td>0.100</td>\n",
       "      <td>-0.294</td>\n",
       "      <td>-0.302</td>\n",
       "      <td>-0.321</td>\n",
       "      <td>1.189</td>\n",
       "      <td>0.000</td>\n",
       "      <td>0.523</td>\n",
       "      <td>0.938</td>\n",
       "      <td>-0.753</td>\n",
       "      <td>-0.069</td>\n",
       "      <td>-0.361</td>\n",
       "      <td>0.000</td>\n",
       "      <td>-0.272</td>\n",
       "      <td>0.000</td>\n",
       "      <td>0.991</td>\n",
       "      <td>0.546</td>\n",
       "      <td>0</td>\n",
       "      <td>0</td>\n",
       "      <td>1</td>\n",
       "      <td>0</td>\n",
       "      <td>1</td>\n",
       "      <td>0</td>\n",
       "      <td>0</td>\n",
       "      <td>0</td>\n",
       "      <td>0</td>\n",
       "      <td>0</td>\n",
       "      <td>1</td>\n",
       "      <td>0</td>\n",
       "      <td>0</td>\n",
       "      <td>0</td>\n",
       "      <td>0</td>\n",
       "      <td>1</td>\n",
       "      <td>0</td>\n",
       "      <td>0</td>\n",
       "      <td>0</td>\n",
       "      <td>1</td>\n",
       "      <td>0</td>\n",
       "      <td>0</td>\n",
       "      <td>0</td>\n",
       "      <td>0</td>\n",
       "      <td>0</td>\n",
       "      <td>0</td>\n",
       "      <td>0</td>\n",
       "      <td>1</td>\n",
       "      <td>0</td>\n",
       "      <td>0</td>\n",
       "      <td>0</td>\n",
       "      <td>0</td>\n",
       "      <td>0</td>\n",
       "      <td>0</td>\n",
       "      <td>0</td>\n",
       "      <td>0</td>\n",
       "      <td>0</td>\n",
       "      <td>0</td>\n",
       "      <td>0</td>\n",
       "      <td>0</td>\n",
       "      <td>0</td>\n",
       "      <td>1</td>\n",
       "      <td>0</td>\n",
       "      <td>0</td>\n",
       "      <td>0</td>\n",
       "      <td>0</td>\n",
       "      <td>0</td>\n",
       "      <td>0</td>\n",
       "      <td>0</td>\n",
       "      <td>0</td>\n",
       "      <td>0</td>\n",
       "      <td>0</td>\n",
       "      <td>0</td>\n",
       "      <td>0</td>\n",
       "      <td>0</td>\n",
       "      <td>1</td>\n",
       "      <td>0</td>\n",
       "      <td>0</td>\n",
       "      <td>0</td>\n",
       "      <td>0</td>\n",
       "      <td>0</td>\n",
       "      <td>0</td>\n",
       "      <td>0</td>\n",
       "      <td>0</td>\n",
       "      <td>0</td>\n",
       "      <td>0</td>\n",
       "      <td>0</td>\n",
       "      <td>0</td>\n",
       "      <td>0</td>\n",
       "      <td>0</td>\n",
       "      <td>1</td>\n",
       "      <td>0</td>\n",
       "      <td>0</td>\n",
       "      <td>1</td>\n",
       "      <td>0</td>\n",
       "      <td>0</td>\n",
       "      <td>0</td>\n",
       "      <td>0</td>\n",
       "      <td>1</td>\n",
       "      <td>0</td>\n",
       "      <td>0</td>\n",
       "      <td>0</td>\n",
       "      <td>0</td>\n",
       "      <td>1</td>\n",
       "      <td>0</td>\n",
       "      <td>1</td>\n",
       "      <td>0</td>\n",
       "      <td>0</td>\n",
       "      <td>0</td>\n",
       "      <td>0</td>\n",
       "      <td>1</td>\n",
       "      <td>0</td>\n",
       "      <td>0</td>\n",
       "      <td>0</td>\n",
       "      <td>0</td>\n",
       "      <td>1</td>\n",
       "      <td>0</td>\n",
       "      <td>0</td>\n",
       "      <td>1</td>\n",
       "      <td>0</td>\n",
       "      <td>0</td>\n",
       "      <td>0</td>\n",
       "      <td>1</td>\n",
       "      <td>0</td>\n",
       "      <td>0</td>\n",
       "      <td>0</td>\n",
       "      <td>0</td>\n",
       "      <td>0</td>\n",
       "      <td>0</td>\n",
       "      <td>0</td>\n",
       "      <td>0</td>\n",
       "      <td>1</td>\n",
       "      <td>0</td>\n",
       "      <td>1</td>\n",
       "      <td>0</td>\n",
       "      <td>0</td>\n",
       "      <td>0</td>\n",
       "      <td>0</td>\n",
       "      <td>0</td>\n",
       "      <td>0</td>\n",
       "      <td>0</td>\n",
       "      <td>0</td>\n",
       "      <td>1</td>\n",
       "      <td>0</td>\n",
       "      <td>0</td>\n",
       "      <td>0</td>\n",
       "      <td>1</td>\n",
       "      <td>0</td>\n",
       "      <td>0</td>\n",
       "      <td>1</td>\n",
       "      <td>0</td>\n",
       "      <td>0</td>\n",
       "      <td>0</td>\n",
       "      <td>0</td>\n",
       "      <td>0</td>\n",
       "      <td>0</td>\n",
       "      <td>1</td>\n",
       "      <td>1</td>\n",
       "      <td>0</td>\n",
       "      <td>0</td>\n",
       "      <td>0</td>\n",
       "      <td>0</td>\n",
       "      <td>0</td>\n",
       "      <td>1</td>\n",
       "      <td>0</td>\n",
       "      <td>0</td>\n",
       "      <td>0</td>\n",
       "      <td>0</td>\n",
       "      <td>0</td>\n",
       "      <td>1</td>\n",
       "      <td>0</td>\n",
       "      <td>0</td>\n",
       "      <td>0</td>\n",
       "      <td>0</td>\n",
       "      <td>1</td>\n",
       "      <td>0</td>\n",
       "      <td>0</td>\n",
       "      <td>1</td>\n",
       "      <td>0</td>\n",
       "      <td>0</td>\n",
       "      <td>0</td>\n",
       "      <td>0</td>\n",
       "      <td>0</td>\n",
       "      <td>0</td>\n",
       "      <td>0</td>\n",
       "      <td>1</td>\n",
       "      <td>0</td>\n",
       "      <td>0</td>\n",
       "      <td>0</td>\n",
       "      <td>1</td>\n",
       "      <td>0</td>\n",
       "      <td>0</td>\n",
       "      <td>0</td>\n",
       "      <td>0</td>\n",
       "      <td>1</td>\n",
       "      <td>0</td>\n",
       "      <td>0</td>\n",
       "      <td>0</td>\n",
       "      <td>0</td>\n",
       "      <td>0</td>\n",
       "      <td>0</td>\n",
       "      <td>0</td>\n",
       "      <td>0</td>\n",
       "      <td>0</td>\n",
       "      <td>0</td>\n",
       "      <td>0</td>\n",
       "      <td>0</td>\n",
       "      <td>1</td>\n",
       "      <td>0</td>\n",
       "      <td>0</td>\n",
       "      <td>0</td>\n",
       "      <td>0</td>\n",
       "      <td>0</td>\n",
       "      <td>1</td>\n",
       "      <td>0</td>\n",
       "      <td>1</td>\n",
       "      <td>0</td>\n",
       "      <td>0</td>\n",
       "      <td>0</td>\n",
       "      <td>1</td>\n",
       "      <td>0</td>\n",
       "      <td>0</td>\n",
       "      <td>0</td>\n",
       "      <td>0</td>\n",
       "      <td>1</td>\n",
       "      <td>0</td>\n",
       "      <td>0</td>\n",
       "      <td>1</td>\n",
       "      <td>0</td>\n",
       "      <td>0</td>\n",
       "      <td>0</td>\n",
       "      <td>1</td>\n",
       "      <td>0</td>\n",
       "      <td>0</td>\n",
       "      <td>0</td>\n",
       "      <td>0</td>\n",
       "      <td>0</td>\n",
       "      <td>0</td>\n",
       "      <td>0</td>\n",
       "      <td>0</td>\n",
       "      <td>0</td>\n",
       "      <td>0</td>\n",
       "      <td>1</td>\n",
       "      <td>0</td>\n",
       "      <td>0</td>\n",
       "      <td>0</td>\n",
       "      <td>0</td>\n",
       "      <td>1</td>\n",
       "      <td>0</td>\n",
       "    </tr>\n",
       "    <tr>\n",
       "      <th>3</th>\n",
       "      <td>0.310</td>\n",
       "      <td>-0.094</td>\n",
       "      <td>-1.864</td>\n",
       "      <td>-0.720</td>\n",
       "      <td>-0.583</td>\n",
       "      <td>-0.512</td>\n",
       "      <td>-0.294</td>\n",
       "      <td>-0.062</td>\n",
       "      <td>-0.710</td>\n",
       "      <td>0.937</td>\n",
       "      <td>0.000</td>\n",
       "      <td>0.390</td>\n",
       "      <td>0.813</td>\n",
       "      <td>-0.753</td>\n",
       "      <td>-0.177</td>\n",
       "      <td>4.131</td>\n",
       "      <td>0.000</td>\n",
       "      <td>-0.272</td>\n",
       "      <td>0.000</td>\n",
       "      <td>-1.599</td>\n",
       "      <td>-0.521</td>\n",
       "      <td>0</td>\n",
       "      <td>0</td>\n",
       "      <td>1</td>\n",
       "      <td>0</td>\n",
       "      <td>1</td>\n",
       "      <td>0</td>\n",
       "      <td>0</td>\n",
       "      <td>0</td>\n",
       "      <td>0</td>\n",
       "      <td>0</td>\n",
       "      <td>1</td>\n",
       "      <td>0</td>\n",
       "      <td>0</td>\n",
       "      <td>0</td>\n",
       "      <td>0</td>\n",
       "      <td>0</td>\n",
       "      <td>0</td>\n",
       "      <td>0</td>\n",
       "      <td>0</td>\n",
       "      <td>1</td>\n",
       "      <td>0</td>\n",
       "      <td>0</td>\n",
       "      <td>0</td>\n",
       "      <td>0</td>\n",
       "      <td>0</td>\n",
       "      <td>0</td>\n",
       "      <td>0</td>\n",
       "      <td>1</td>\n",
       "      <td>0</td>\n",
       "      <td>0</td>\n",
       "      <td>0</td>\n",
       "      <td>0</td>\n",
       "      <td>0</td>\n",
       "      <td>0</td>\n",
       "      <td>0</td>\n",
       "      <td>0</td>\n",
       "      <td>0</td>\n",
       "      <td>0</td>\n",
       "      <td>0</td>\n",
       "      <td>0</td>\n",
       "      <td>0</td>\n",
       "      <td>1</td>\n",
       "      <td>0</td>\n",
       "      <td>0</td>\n",
       "      <td>0</td>\n",
       "      <td>0</td>\n",
       "      <td>0</td>\n",
       "      <td>0</td>\n",
       "      <td>0</td>\n",
       "      <td>0</td>\n",
       "      <td>0</td>\n",
       "      <td>0</td>\n",
       "      <td>0</td>\n",
       "      <td>0</td>\n",
       "      <td>0</td>\n",
       "      <td>0</td>\n",
       "      <td>1</td>\n",
       "      <td>0</td>\n",
       "      <td>0</td>\n",
       "      <td>0</td>\n",
       "      <td>0</td>\n",
       "      <td>0</td>\n",
       "      <td>0</td>\n",
       "      <td>0</td>\n",
       "      <td>0</td>\n",
       "      <td>0</td>\n",
       "      <td>0</td>\n",
       "      <td>0</td>\n",
       "      <td>0</td>\n",
       "      <td>0</td>\n",
       "      <td>0</td>\n",
       "      <td>0</td>\n",
       "      <td>1</td>\n",
       "      <td>0</td>\n",
       "      <td>1</td>\n",
       "      <td>0</td>\n",
       "      <td>0</td>\n",
       "      <td>0</td>\n",
       "      <td>0</td>\n",
       "      <td>1</td>\n",
       "      <td>0</td>\n",
       "      <td>0</td>\n",
       "      <td>0</td>\n",
       "      <td>1</td>\n",
       "      <td>0</td>\n",
       "      <td>0</td>\n",
       "      <td>0</td>\n",
       "      <td>0</td>\n",
       "      <td>0</td>\n",
       "      <td>0</td>\n",
       "      <td>0</td>\n",
       "      <td>1</td>\n",
       "      <td>0</td>\n",
       "      <td>1</td>\n",
       "      <td>0</td>\n",
       "      <td>0</td>\n",
       "      <td>0</td>\n",
       "      <td>0</td>\n",
       "      <td>0</td>\n",
       "      <td>1</td>\n",
       "      <td>0</td>\n",
       "      <td>0</td>\n",
       "      <td>0</td>\n",
       "      <td>0</td>\n",
       "      <td>0</td>\n",
       "      <td>0</td>\n",
       "      <td>0</td>\n",
       "      <td>0</td>\n",
       "      <td>0</td>\n",
       "      <td>0</td>\n",
       "      <td>0</td>\n",
       "      <td>1</td>\n",
       "      <td>0</td>\n",
       "      <td>1</td>\n",
       "      <td>0</td>\n",
       "      <td>0</td>\n",
       "      <td>0</td>\n",
       "      <td>0</td>\n",
       "      <td>0</td>\n",
       "      <td>1</td>\n",
       "      <td>0</td>\n",
       "      <td>0</td>\n",
       "      <td>1</td>\n",
       "      <td>0</td>\n",
       "      <td>0</td>\n",
       "      <td>0</td>\n",
       "      <td>1</td>\n",
       "      <td>0</td>\n",
       "      <td>0</td>\n",
       "      <td>1</td>\n",
       "      <td>0</td>\n",
       "      <td>0</td>\n",
       "      <td>0</td>\n",
       "      <td>0</td>\n",
       "      <td>0</td>\n",
       "      <td>0</td>\n",
       "      <td>1</td>\n",
       "      <td>0</td>\n",
       "      <td>0</td>\n",
       "      <td>0</td>\n",
       "      <td>0</td>\n",
       "      <td>1</td>\n",
       "      <td>0</td>\n",
       "      <td>0</td>\n",
       "      <td>1</td>\n",
       "      <td>0</td>\n",
       "      <td>0</td>\n",
       "      <td>0</td>\n",
       "      <td>0</td>\n",
       "      <td>1</td>\n",
       "      <td>0</td>\n",
       "      <td>0</td>\n",
       "      <td>0</td>\n",
       "      <td>0</td>\n",
       "      <td>1</td>\n",
       "      <td>0</td>\n",
       "      <td>0</td>\n",
       "      <td>1</td>\n",
       "      <td>0</td>\n",
       "      <td>0</td>\n",
       "      <td>0</td>\n",
       "      <td>0</td>\n",
       "      <td>0</td>\n",
       "      <td>0</td>\n",
       "      <td>0</td>\n",
       "      <td>1</td>\n",
       "      <td>0</td>\n",
       "      <td>0</td>\n",
       "      <td>0</td>\n",
       "      <td>0</td>\n",
       "      <td>0</td>\n",
       "      <td>0</td>\n",
       "      <td>0</td>\n",
       "      <td>0</td>\n",
       "      <td>1</td>\n",
       "      <td>0</td>\n",
       "      <td>0</td>\n",
       "      <td>0</td>\n",
       "      <td>0</td>\n",
       "      <td>0</td>\n",
       "      <td>0</td>\n",
       "      <td>0</td>\n",
       "      <td>0</td>\n",
       "      <td>0</td>\n",
       "      <td>0</td>\n",
       "      <td>0</td>\n",
       "      <td>0</td>\n",
       "      <td>1</td>\n",
       "      <td>0</td>\n",
       "      <td>0</td>\n",
       "      <td>0</td>\n",
       "      <td>0</td>\n",
       "      <td>1</td>\n",
       "      <td>0</td>\n",
       "      <td>0</td>\n",
       "      <td>0</td>\n",
       "      <td>0</td>\n",
       "      <td>0</td>\n",
       "      <td>0</td>\n",
       "      <td>1</td>\n",
       "      <td>0</td>\n",
       "      <td>0</td>\n",
       "      <td>0</td>\n",
       "      <td>0</td>\n",
       "      <td>1</td>\n",
       "      <td>0</td>\n",
       "      <td>0</td>\n",
       "      <td>1</td>\n",
       "      <td>0</td>\n",
       "      <td>0</td>\n",
       "      <td>0</td>\n",
       "      <td>0</td>\n",
       "      <td>1</td>\n",
       "      <td>0</td>\n",
       "      <td>0</td>\n",
       "      <td>0</td>\n",
       "      <td>0</td>\n",
       "      <td>0</td>\n",
       "      <td>0</td>\n",
       "      <td>0</td>\n",
       "      <td>0</td>\n",
       "      <td>0</td>\n",
       "      <td>0</td>\n",
       "      <td>0</td>\n",
       "      <td>0</td>\n",
       "      <td>0</td>\n",
       "      <td>0</td>\n",
       "      <td>1</td>\n",
       "      <td>0</td>\n",
       "    </tr>\n",
       "    <tr>\n",
       "      <th>4</th>\n",
       "      <td>0.073</td>\n",
       "      <td>0.901</td>\n",
       "      <td>0.952</td>\n",
       "      <td>0.733</td>\n",
       "      <td>1.394</td>\n",
       "      <td>0.483</td>\n",
       "      <td>-0.294</td>\n",
       "      <td>-0.175</td>\n",
       "      <td>0.212</td>\n",
       "      <td>1.618</td>\n",
       "      <td>0.000</td>\n",
       "      <td>1.317</td>\n",
       "      <td>0.896</td>\n",
       "      <td>0.781</td>\n",
       "      <td>0.577</td>\n",
       "      <td>-0.361</td>\n",
       "      <td>0.000</td>\n",
       "      <td>-0.272</td>\n",
       "      <td>0.000</td>\n",
       "      <td>2.101</td>\n",
       "      <td>0.885</td>\n",
       "      <td>0</td>\n",
       "      <td>0</td>\n",
       "      <td>1</td>\n",
       "      <td>0</td>\n",
       "      <td>1</td>\n",
       "      <td>0</td>\n",
       "      <td>0</td>\n",
       "      <td>0</td>\n",
       "      <td>0</td>\n",
       "      <td>0</td>\n",
       "      <td>1</td>\n",
       "      <td>0</td>\n",
       "      <td>0</td>\n",
       "      <td>1</td>\n",
       "      <td>0</td>\n",
       "      <td>0</td>\n",
       "      <td>0</td>\n",
       "      <td>0</td>\n",
       "      <td>0</td>\n",
       "      <td>1</td>\n",
       "      <td>0</td>\n",
       "      <td>0</td>\n",
       "      <td>0</td>\n",
       "      <td>0</td>\n",
       "      <td>0</td>\n",
       "      <td>0</td>\n",
       "      <td>0</td>\n",
       "      <td>1</td>\n",
       "      <td>0</td>\n",
       "      <td>0</td>\n",
       "      <td>0</td>\n",
       "      <td>0</td>\n",
       "      <td>0</td>\n",
       "      <td>0</td>\n",
       "      <td>0</td>\n",
       "      <td>0</td>\n",
       "      <td>0</td>\n",
       "      <td>0</td>\n",
       "      <td>0</td>\n",
       "      <td>0</td>\n",
       "      <td>0</td>\n",
       "      <td>1</td>\n",
       "      <td>0</td>\n",
       "      <td>0</td>\n",
       "      <td>0</td>\n",
       "      <td>0</td>\n",
       "      <td>0</td>\n",
       "      <td>0</td>\n",
       "      <td>0</td>\n",
       "      <td>0</td>\n",
       "      <td>0</td>\n",
       "      <td>0</td>\n",
       "      <td>0</td>\n",
       "      <td>0</td>\n",
       "      <td>0</td>\n",
       "      <td>1</td>\n",
       "      <td>0</td>\n",
       "      <td>0</td>\n",
       "      <td>0</td>\n",
       "      <td>0</td>\n",
       "      <td>0</td>\n",
       "      <td>0</td>\n",
       "      <td>0</td>\n",
       "      <td>0</td>\n",
       "      <td>0</td>\n",
       "      <td>0</td>\n",
       "      <td>0</td>\n",
       "      <td>0</td>\n",
       "      <td>0</td>\n",
       "      <td>0</td>\n",
       "      <td>1</td>\n",
       "      <td>0</td>\n",
       "      <td>0</td>\n",
       "      <td>1</td>\n",
       "      <td>0</td>\n",
       "      <td>0</td>\n",
       "      <td>0</td>\n",
       "      <td>0</td>\n",
       "      <td>1</td>\n",
       "      <td>0</td>\n",
       "      <td>0</td>\n",
       "      <td>0</td>\n",
       "      <td>0</td>\n",
       "      <td>1</td>\n",
       "      <td>0</td>\n",
       "      <td>1</td>\n",
       "      <td>0</td>\n",
       "      <td>0</td>\n",
       "      <td>0</td>\n",
       "      <td>0</td>\n",
       "      <td>1</td>\n",
       "      <td>0</td>\n",
       "      <td>0</td>\n",
       "      <td>0</td>\n",
       "      <td>0</td>\n",
       "      <td>1</td>\n",
       "      <td>0</td>\n",
       "      <td>0</td>\n",
       "      <td>0</td>\n",
       "      <td>0</td>\n",
       "      <td>0</td>\n",
       "      <td>0</td>\n",
       "      <td>1</td>\n",
       "      <td>0</td>\n",
       "      <td>0</td>\n",
       "      <td>0</td>\n",
       "      <td>0</td>\n",
       "      <td>0</td>\n",
       "      <td>0</td>\n",
       "      <td>0</td>\n",
       "      <td>0</td>\n",
       "      <td>1</td>\n",
       "      <td>0</td>\n",
       "      <td>1</td>\n",
       "      <td>0</td>\n",
       "      <td>0</td>\n",
       "      <td>0</td>\n",
       "      <td>0</td>\n",
       "      <td>0</td>\n",
       "      <td>0</td>\n",
       "      <td>0</td>\n",
       "      <td>0</td>\n",
       "      <td>1</td>\n",
       "      <td>0</td>\n",
       "      <td>0</td>\n",
       "      <td>0</td>\n",
       "      <td>1</td>\n",
       "      <td>0</td>\n",
       "      <td>0</td>\n",
       "      <td>1</td>\n",
       "      <td>0</td>\n",
       "      <td>0</td>\n",
       "      <td>0</td>\n",
       "      <td>0</td>\n",
       "      <td>0</td>\n",
       "      <td>0</td>\n",
       "      <td>1</td>\n",
       "      <td>1</td>\n",
       "      <td>0</td>\n",
       "      <td>0</td>\n",
       "      <td>0</td>\n",
       "      <td>0</td>\n",
       "      <td>0</td>\n",
       "      <td>1</td>\n",
       "      <td>0</td>\n",
       "      <td>0</td>\n",
       "      <td>0</td>\n",
       "      <td>0</td>\n",
       "      <td>0</td>\n",
       "      <td>1</td>\n",
       "      <td>0</td>\n",
       "      <td>0</td>\n",
       "      <td>0</td>\n",
       "      <td>0</td>\n",
       "      <td>1</td>\n",
       "      <td>0</td>\n",
       "      <td>0</td>\n",
       "      <td>1</td>\n",
       "      <td>0</td>\n",
       "      <td>0</td>\n",
       "      <td>0</td>\n",
       "      <td>0</td>\n",
       "      <td>0</td>\n",
       "      <td>0</td>\n",
       "      <td>0</td>\n",
       "      <td>1</td>\n",
       "      <td>0</td>\n",
       "      <td>0</td>\n",
       "      <td>0</td>\n",
       "      <td>1</td>\n",
       "      <td>0</td>\n",
       "      <td>0</td>\n",
       "      <td>0</td>\n",
       "      <td>0</td>\n",
       "      <td>1</td>\n",
       "      <td>0</td>\n",
       "      <td>0</td>\n",
       "      <td>0</td>\n",
       "      <td>0</td>\n",
       "      <td>0</td>\n",
       "      <td>0</td>\n",
       "      <td>0</td>\n",
       "      <td>0</td>\n",
       "      <td>0</td>\n",
       "      <td>0</td>\n",
       "      <td>0</td>\n",
       "      <td>0</td>\n",
       "      <td>1</td>\n",
       "      <td>0</td>\n",
       "      <td>0</td>\n",
       "      <td>0</td>\n",
       "      <td>0</td>\n",
       "      <td>0</td>\n",
       "      <td>1</td>\n",
       "      <td>0</td>\n",
       "      <td>1</td>\n",
       "      <td>0</td>\n",
       "      <td>0</td>\n",
       "      <td>0</td>\n",
       "      <td>0</td>\n",
       "      <td>1</td>\n",
       "      <td>0</td>\n",
       "      <td>0</td>\n",
       "      <td>0</td>\n",
       "      <td>1</td>\n",
       "      <td>0</td>\n",
       "      <td>0</td>\n",
       "      <td>1</td>\n",
       "      <td>0</td>\n",
       "      <td>0</td>\n",
       "      <td>0</td>\n",
       "      <td>0</td>\n",
       "      <td>1</td>\n",
       "      <td>0</td>\n",
       "      <td>0</td>\n",
       "      <td>0</td>\n",
       "      <td>0</td>\n",
       "      <td>0</td>\n",
       "      <td>0</td>\n",
       "      <td>0</td>\n",
       "      <td>0</td>\n",
       "      <td>0</td>\n",
       "      <td>1</td>\n",
       "      <td>0</td>\n",
       "      <td>0</td>\n",
       "      <td>0</td>\n",
       "      <td>0</td>\n",
       "      <td>1</td>\n",
       "      <td>0</td>\n",
       "    </tr>\n",
       "  </tbody>\n",
       "</table>\n",
       "</div>"
      ],
      "text/plain": [
       "   MSSubClass  LotArea  YearBuilt  YearRemodAdd  MasVnrArea  BsmtFinSF1  BsmtFinSF2  BsmtUnfSF  TotalBsmtSF  2ndFlrSF  LowQualFinSF  GrLivArea  GarageYrBlt  WoodDeckSF  \\\n",
       "0       0.073   -0.327      1.051         0.879       0.524       0.599      -0.294     -0.945       -0.473     1.162         0.000      0.377        1.021      -0.753   \n",
       "1      -0.873   -0.084      0.157        -0.430      -0.583       1.215      -0.294     -0.641        0.490    -0.795         0.000     -0.487       -0.104       1.627   \n",
       "2       0.073    0.265      0.985         0.830       0.332       0.100      -0.294     -0.302       -0.321     1.189         0.000      0.523        0.938      -0.753   \n",
       "3       0.310   -0.094     -1.864        -0.720      -0.583      -0.512      -0.294     -0.062       -0.710     0.937         0.000      0.390        0.813      -0.753   \n",
       "4       0.073    0.901      0.952         0.733       1.394       0.483      -0.294     -0.175        0.212     1.618         0.000      1.317        0.896       0.781   \n",
       "\n",
       "   OpenPorchSF  EnclosedPorch  3SsnPorch  ScreenPorch  MiscVal  MoSold  SalePrice  MSZoning_FV  MSZoning_RH  MSZoning_RL  MSZoning_RM  Street_Pave  LotShape_IR2  \\\n",
       "0        0.223         -0.361      0.000       -0.272    0.000  -1.599      0.355            0            0            1            0            1             0   \n",
       "1       -0.715         -0.361      0.000       -0.272    0.000  -0.489      0.010            0            0            1            0            1             0   \n",
       "2       -0.069         -0.361      0.000       -0.272    0.000   0.991      0.546            0            0            1            0            1             0   \n",
       "3       -0.177          4.131      0.000       -0.272    0.000  -1.599     -0.521            0            0            1            0            1             0   \n",
       "4        0.577         -0.361      0.000       -0.272    0.000   2.101      0.885            0            0            1            0            1             0   \n",
       "\n",
       "   LotShape_IR3  LotShape_Reg  LandContour_HLS  LandContour_Low  LandContour_Lvl  Utilities_NoSeWa  LotConfig_CulDSac  LotConfig_FR2  LotConfig_FR3  LotConfig_Inside  \\\n",
       "0             0             1                0                0                1                 0                  0              0              0                 1   \n",
       "1             0             1                0                0                1                 0                  0              1              0                 0   \n",
       "2             0             0                0                0                1                 0                  0              0              0                 1   \n",
       "3             0             0                0                0                1                 0                  0              0              0                 0   \n",
       "4             0             0                0                0                1                 0                  0              1              0                 0   \n",
       "\n",
       "   LandSlope_Mod  LandSlope_Sev  Condition1_Feedr  Condition1_Norm  Condition1_PosA  Condition1_PosN  Condition1_RRAe  Condition1_RRAn  Condition1_RRNe  \\\n",
       "0              0              0                 0                1                0                0                0                0                0   \n",
       "1              0              0                 1                0                0                0                0                0                0   \n",
       "2              0              0                 0                1                0                0                0                0                0   \n",
       "3              0              0                 0                1                0                0                0                0                0   \n",
       "4              0              0                 0                1                0                0                0                0                0   \n",
       "\n",
       "   Condition1_RRNn  Condition2_Feedr  Condition2_Norm  Condition2_PosA  Condition2_PosN  Condition2_RRAe  Condition2_RRAn  Condition2_RRNn  BldgType_2fmCon  \\\n",
       "0                0                 0                1                0                0                0                0                0                0   \n",
       "1                0                 0                1                0                0                0                0                0                0   \n",
       "2                0                 0                1                0                0                0                0                0                0   \n",
       "3                0                 0                1                0                0                0                0                0                0   \n",
       "4                0                 0                1                0                0                0                0                0                0   \n",
       "\n",
       "   BldgType_Duplex  BldgType_Twnhs  BldgType_TwnhsE  HouseStyle_1.5Unf  HouseStyle_1Story  HouseStyle_2.5Fin  HouseStyle_2.5Unf  HouseStyle_2Story  HouseStyle_SFoyer  \\\n",
       "0                0               0                0                  0                  0                  0                  0                  1                  0   \n",
       "1                0               0                0                  0                  1                  0                  0                  0                  0   \n",
       "2                0               0                0                  0                  0                  0                  0                  1                  0   \n",
       "3                0               0                0                  0                  0                  0                  0                  1                  0   \n",
       "4                0               0                0                  0                  0                  0                  0                  1                  0   \n",
       "\n",
       "   HouseStyle_SLvl  Exterior1st_AsphShn  Exterior1st_BrkComm  Exterior1st_BrkFace  Exterior1st_CBlock  Exterior1st_CemntBd  Exterior1st_HdBoard  Exterior1st_ImStucc  \\\n",
       "0                0                    0                    0                    0                   0                    0                    0                    0   \n",
       "1                0                    0                    0                    0                   0                    0                    0                    0   \n",
       "2                0                    0                    0                    0                   0                    0                    0                    0   \n",
       "3                0                    0                    0                    0                   0                    0                    0                    0   \n",
       "4                0                    0                    0                    0                   0                    0                    0                    0   \n",
       "\n",
       "   Exterior1st_MetalSd  Exterior1st_Plywood  Exterior1st_Stone  Exterior1st_Stucco  Exterior1st_VinylSd  Exterior1st_Wd Sdng  Exterior1st_WdShing  Exterior2nd_AsphShn  \\\n",
       "0                    0                    0                  0                   0                    1                    0                    0                    0   \n",
       "1                    1                    0                  0                   0                    0                    0                    0                    0   \n",
       "2                    0                    0                  0                   0                    1                    0                    0                    0   \n",
       "3                    0                    0                  0                   0                    0                    1                    0                    0   \n",
       "4                    0                    0                  0                   0                    1                    0                    0                    0   \n",
       "\n",
       "   Exterior2nd_Brk Cmn  Exterior2nd_BrkFace  Exterior2nd_CBlock  Exterior2nd_CmentBd  Exterior2nd_HdBoard  Exterior2nd_ImStucc  Exterior2nd_MetalSd  Exterior2nd_Other  \\\n",
       "0                    0                    0                   0                    0                    0                    0                    0                  0   \n",
       "1                    0                    0                   0                    0                    0                    0                    1                  0   \n",
       "2                    0                    0                   0                    0                    0                    0                    0                  0   \n",
       "3                    0                    0                   0                    0                    0                    0                    0                  0   \n",
       "4                    0                    0                   0                    0                    0                    0                    0                  0   \n",
       "\n",
       "   Exterior2nd_Plywood  Exterior2nd_Stone  Exterior2nd_Stucco  Exterior2nd_VinylSd  Exterior2nd_Wd Sdng  Exterior2nd_Wd Shng  MasVnrType_BrkFace  MasVnrType_None  \\\n",
       "0                    0                  0                   0                    1                    0                    0                   1                0   \n",
       "1                    0                  0                   0                    0                    0                    0                   0                1   \n",
       "2                    0                  0                   0                    1                    0                    0                   1                0   \n",
       "3                    0                  0                   0                    0                    0                    1                   0                1   \n",
       "4                    0                  0                   0                    1                    0                    0                   1                0   \n",
       "\n",
       "   MasVnrType_Stone  MasVnrType_Unknown  ExterQual_Fa  ExterQual_Gd  ExterQual_TA  ExterCond_Fa  ExterCond_Gd  ExterCond_Po  ExterCond_TA  Foundation_CBlock  \\\n",
       "0                 0                   0             0             1             0             0             0             0             1                  0   \n",
       "1                 0                   0             0             0             1             0             0             0             1                  1   \n",
       "2                 0                   0             0             1             0             0             0             0             1                  0   \n",
       "3                 0                   0             0             0             1             0             0             0             1                  0   \n",
       "4                 0                   0             0             1             0             0             0             0             1                  0   \n",
       "\n",
       "   Foundation_PConc  Foundation_Slab  Foundation_Stone  Foundation_Wood  BsmtQual_Fa  BsmtQual_Gd  BsmtQual_TA  BsmtQual_Unknown  BsmtCond_Gd  BsmtCond_Po  BsmtCond_TA  \\\n",
       "0                 1                0                 0                0            0            1            0                 0            0            0            1   \n",
       "1                 0                0                 0                0            0            1            0                 0            0            0            1   \n",
       "2                 1                0                 0                0            0            1            0                 0            0            0            1   \n",
       "3                 0                0                 0                0            0            0            1                 0            1            0            0   \n",
       "4                 1                0                 0                0            0            1            0                 0            0            0            1   \n",
       "\n",
       "   BsmtCond_Unknown  BsmtExposure_Gd  BsmtExposure_Mn  BsmtExposure_No  BsmtExposure_Unknown  BsmtFinType1_BLQ  BsmtFinType1_GLQ  BsmtFinType1_LwQ  BsmtFinType1_Rec  \\\n",
       "0                 0                0                0                1                     0                 0                 1                 0                 0   \n",
       "1                 0                1                0                0                     0                 0                 0                 0                 0   \n",
       "2                 0                0                1                0                     0                 0                 1                 0                 0   \n",
       "3                 0                0                0                1                     0                 0                 0                 0                 0   \n",
       "4                 0                0                0                0                     0                 0                 1                 0                 0   \n",
       "\n",
       "   BsmtFinType1_Unf  BsmtFinType1_Unknown  BsmtFinType2_BLQ  BsmtFinType2_GLQ  BsmtFinType2_LwQ  BsmtFinType2_Rec  BsmtFinType2_Unf  BsmtFinType2_Unknown  Heating_GasA  \\\n",
       "0                 0                     0                 0                 0                 0                 0                 1                     0             1   \n",
       "1                 0                     0                 0                 0                 0                 0                 1                     0             1   \n",
       "2                 0                     0                 0                 0                 0                 0                 1                     0             1   \n",
       "3                 0                     0                 0                 0                 0                 0                 1                     0             1   \n",
       "4                 0                     0                 0                 0                 0                 0                 1                     0             1   \n",
       "\n",
       "   Heating_GasW  Heating_Grav  Heating_OthW  Heating_Wall  HeatingQC_Fa  HeatingQC_Gd  HeatingQC_Po  HeatingQC_TA  CentralAir_Y  Electrical_FuseF  Electrical_FuseP  \\\n",
       "0             0             0             0             0             0             0             0             0             1                 0                 0   \n",
       "1             0             0             0             0             0             0             0             0             1                 0                 0   \n",
       "2             0             0             0             0             0             0             0             0             1                 0                 0   \n",
       "3             0             0             0             0             0             1             0             0             1                 0                 0   \n",
       "4             0             0             0             0             0             0             0             0             1                 0                 0   \n",
       "\n",
       "   Electrical_Mix  Electrical_SBrkr  Electrical_Unknown  KitchenQual_Fa  KitchenQual_Gd  KitchenQual_TA  Functional_Maj2  Functional_Min1  Functional_Min2  \\\n",
       "0               0                 1                   0               0               1               0                0                0                0   \n",
       "1               0                 1                   0               0               0               1                0                0                0   \n",
       "2               0                 1                   0               0               1               0                0                0                0   \n",
       "3               0                 1                   0               0               1               0                0                0                0   \n",
       "4               0                 1                   0               0               1               0                0                0                0   \n",
       "\n",
       "   Functional_Mod  Functional_Sev  Functional_Typ  GarageType_Attchd  GarageType_Basment  GarageType_BuiltIn  GarageType_CarPort  GarageType_Detchd  GarageType_Unknown  \\\n",
       "0               0               0               1                  1                   0                   0                   0                  0                   0   \n",
       "1               0               0               1                  1                   0                   0                   0                  0                   0   \n",
       "2               0               0               1                  1                   0                   0                   0                  0                   0   \n",
       "3               0               0               1                  0                   0                   0                   0                  1                   0   \n",
       "4               0               0               1                  1                   0                   0                   0                  0                   0   \n",
       "\n",
       "   GarageFinish_RFn  GarageFinish_Unf  GarageFinish_Unknown  GarageQual_Fa  GarageQual_Gd  GarageQual_Po  GarageQual_TA  GarageQual_Unknown  GarageCond_Fa  \\\n",
       "0                 1                 0                     0              0              0              0              1                   0              0   \n",
       "1                 1                 0                     0              0              0              0              1                   0              0   \n",
       "2                 1                 0                     0              0              0              0              1                   0              0   \n",
       "3                 0                 1                     0              0              0              0              1                   0              0   \n",
       "4                 1                 0                     0              0              0              0              1                   0              0   \n",
       "\n",
       "   GarageCond_Gd  GarageCond_Po  GarageCond_TA  GarageCond_Unknown  PavedDrive_P  PavedDrive_Y  SaleType_CWD  SaleType_Con  SaleType_ConLD  SaleType_ConLI  \\\n",
       "0              0              0              1                   0             0             1             0             0               0               0   \n",
       "1              0              0              1                   0             0             1             0             0               0               0   \n",
       "2              0              0              1                   0             0             1             0             0               0               0   \n",
       "3              0              0              1                   0             0             1             0             0               0               0   \n",
       "4              0              0              1                   0             0             1             0             0               0               0   \n",
       "\n",
       "   SaleType_ConLw  SaleType_New  SaleType_Oth  SaleType_WD  SaleCondition_AdjLand  SaleCondition_Alloca  SaleCondition_Family  SaleCondition_Normal  \\\n",
       "0               0             0             0            1                      0                     0                     0                     1   \n",
       "1               0             0             0            1                      0                     0                     0                     1   \n",
       "2               0             0             0            1                      0                     0                     0                     1   \n",
       "3               0             0             0            1                      0                     0                     0                     0   \n",
       "4               0             0             0            1                      0                     0                     0                     1   \n",
       "\n",
       "   SaleCondition_Partial  Roof_Flat-Membran  Roof_Flat-Metal  Roof_Flat-Tar&Grv  Roof_Gable-CompShg  Roof_Gable-Roll  Roof_Gable-Tar&Grv  Roof_Gable-WdShngl  \\\n",
       "0                      0                  0                0                  0                   1                0                   0                   0   \n",
       "1                      0                  0                0                  0                   1                0                   0                   0   \n",
       "2                      0                  0                0                  0                   1                0                   0                   0   \n",
       "3                      0                  0                0                  0                   1                0                   0                   0   \n",
       "4                      0                  0                0                  0                   1                0                   0                   0   \n",
       "\n",
       "   Roof_Gambrel-CompShg  Roof_Hip-ClyTile  Roof_Hip-CompShg  Roof_Hip-WdShake  Roof_Hip-WdShngl  Roof_Mansard-CompShg  Roof_Mansard-WdShake  Roof_Shed-CompShg  \\\n",
       "0                     0                 0                 0                 0                 0                     0                     0                  0   \n",
       "1                     0                 0                 0                 0                 0                     0                     0                  0   \n",
       "2                     0                 0                 0                 0                 0                     0                     0                  0   \n",
       "3                     0                 0                 0                 0                 0                     0                     0                  0   \n",
       "4                     0                 0                 0                 0                 0                     0                     0                  0   \n",
       "\n",
       "   Roof_Shed-WdShake  BsmtFullBath_1  BsmtFullBath_2  BsmtFullBath_3  BsmtHalfBath_1  BsmtHalfBath_2  FullBath_1  FullBath_2  FullBath_3  HalfBath_1  HalfBath_2  \\\n",
       "0                  0               1               0               0               0               0           0           1           0           1           0   \n",
       "1                  0               0               0               0               1               0           0           1           0           0           0   \n",
       "2                  0               1               0               0               0               0           0           1           0           1           0   \n",
       "3                  0               1               0               0               0               0           1           0           0           0           0   \n",
       "4                  0               1               0               0               0               0           0           1           0           1           0   \n",
       "\n",
       "   BedroomAbvGr_1  BedroomAbvGr_2  BedroomAbvGr_3  BedroomAbvGr_4  BedroomAbvGr_5  BedroomAbvGr_6  BedroomAbvGr_8  KitchenAbvGr_1  KitchenAbvGr_2  KitchenAbvGr_3  \\\n",
       "0               0               0               1               0               0               0               0               1               0               0   \n",
       "1               0               0               1               0               0               0               0               1               0               0   \n",
       "2               0               0               1               0               0               0               0               1               0               0   \n",
       "3               0               0               1               0               0               0               0               1               0               0   \n",
       "4               0               0               0               1               0               0               0               1               0               0   \n",
       "\n",
       "   Fireplaces_1  Fireplaces_2  Fireplaces_3  GarageCars_1  GarageCars_2  GarageCars_3  GarageCars_4  PoolArea_480  PoolArea_512  PoolArea_519  PoolArea_555  \\\n",
       "0             0             0             0             0             1             0             0             0             0             0             0   \n",
       "1             1             0             0             0             1             0             0             0             0             0             0   \n",
       "2             1             0             0             0             1             0             0             0             0             0             0   \n",
       "3             1             0             0             0             0             1             0             0             0             0             0   \n",
       "4             1             0             0             0             0             1             0             0             0             0             0   \n",
       "\n",
       "   PoolArea_576  PoolArea_648  PoolArea_738  YrSold_2007  YrSold_2008  YrSold_2009  YrSold_2010  Overall_3.0  Overall_4.0  Overall_5.0  Overall_6.0  \n",
       "0             0             0             0            0            1            0            0            0            0            1            0  \n",
       "1             0             0             0            1            0            0            0            0            0            1            0  \n",
       "2             0             0             0            0            1            0            0            0            0            1            0  \n",
       "3             0             0             0            0            0            0            0            0            0            1            0  \n",
       "4             0             0             0            0            1            0            0            0            0            1            0  "
      ]
     },
     "execution_count": 39,
     "metadata": {},
     "output_type": "execute_result"
    }
   ],
   "source": [
    "df.head()"
   ]
  },
  {
   "cell_type": "code",
   "execution_count": 40,
   "id": "c32f35fa",
   "metadata": {
    "execution": {
     "iopub.execute_input": "2022-11-21T21:41:45.197385Z",
     "iopub.status.busy": "2022-11-21T21:41:45.196509Z",
     "iopub.status.idle": "2022-11-21T21:41:45.203866Z",
     "shell.execute_reply": "2022-11-21T21:41:45.202884Z"
    },
    "papermill": {
     "duration": 0.039214,
     "end_time": "2022-11-21T21:41:45.206393",
     "exception": false,
     "start_time": "2022-11-21T21:41:45.167179",
     "status": "completed"
    },
    "tags": []
   },
   "outputs": [],
   "source": [
    "y_train = df['SalePrice']\n",
    "X_train = df.drop(['SalePrice'],axis=1)"
   ]
  },
  {
   "cell_type": "markdown",
   "id": "a9f91a79",
   "metadata": {
    "papermill": {
     "duration": 0.026781,
     "end_time": "2022-11-21T21:41:45.261477",
     "exception": false,
     "start_time": "2022-11-21T21:41:45.234696",
     "status": "completed"
    },
    "tags": []
   },
   "source": [
    "choosing the best classifier is importing. In this case, lightGBM has the highest rate"
   ]
  },
  {
   "cell_type": "code",
   "execution_count": 41,
   "id": "56aefce3",
   "metadata": {
    "execution": {
     "iopub.execute_input": "2022-11-21T21:41:45.322467Z",
     "iopub.status.busy": "2022-11-21T21:41:45.321608Z",
     "iopub.status.idle": "2022-11-21T21:41:45.334756Z",
     "shell.execute_reply": "2022-11-21T21:41:45.333688Z"
    },
    "papermill": {
     "duration": 0.044339,
     "end_time": "2022-11-21T21:41:45.337128",
     "exception": false,
     "start_time": "2022-11-21T21:41:45.292789",
     "status": "completed"
    },
    "tags": []
   },
   "outputs": [],
   "source": [
    "knn_params = {\"n_neighbors\": range(2, 50)}\n",
    "\n",
    "cart_params = {'max_depth': range(1, 20),\n",
    "               \"min_samples_split\": range(2, 30)}\n",
    "\n",
    "rf_params = {\"max_depth\": [8, 15, None],\n",
    "             \"max_features\": [5, 7, \"auto\"],\n",
    "             \"min_samples_split\": [15, 20],\n",
    "             \"n_estimators\": [200, 300]}\n",
    "\n",
    "xgboost_params = {\"learning_rate\": [0.1, 0.01],\n",
    "                  \"max_depth\": [5, 8],\n",
    "                  \"n_estimators\": [100, 200],\n",
    "                  \"colsample_bytree\": [0.5, 1]}\n",
    "\n",
    "gbm_params = {\"learning_rate\": [0.01, 0.1],\n",
    "              \"max_depth\": [3, 8],\n",
    "              \"n_estimators\": [500, 1000],\n",
    "              \"subsample\": [1, 0.5, 0.7]}\n",
    "\n",
    "\n",
    "lgbm_params = {\"learning_rate\": [0.01, 0.02, 0.03, 0.1, 0.001],\n",
    "               \"n_estimators\": [100, 250, 300, 350, 500, 1000],\n",
    "               \"colsample_bytree\": [0.5, 0.8, 0.7, 0.6, 1]}\n",
    "\n",
    "regressors = [('KNN', KNeighborsRegressor(),knn_params),\n",
    "              ('CART', DecisionTreeRegressor(),cart_params),\n",
    "              ('RF', RandomForestRegressor(),rf_params),\n",
    "              ('GBM', GradientBoostingRegressor(),gbm_params),\n",
    "              (\"XGBoost\", XGBRegressor(objective='reg:squarederror'),xgboost_params),\n",
    "              (\"LightGBM\", LGBMRegressor(),lgbm_params),\n",
    "              ]"
   ]
  },
  {
   "cell_type": "code",
   "execution_count": 42,
   "id": "511a9f7c",
   "metadata": {
    "execution": {
     "iopub.execute_input": "2022-11-21T21:41:45.397724Z",
     "iopub.status.busy": "2022-11-21T21:41:45.397244Z",
     "iopub.status.idle": "2022-11-21T21:51:13.243786Z",
     "shell.execute_reply": "2022-11-21T21:51:13.242685Z"
    },
    "papermill": {
     "duration": 567.908455,
     "end_time": "2022-11-21T21:51:13.273525",
     "exception": false,
     "start_time": "2022-11-21T21:41:45.365070",
     "status": "completed"
    },
    "tags": []
   },
   "outputs": [
    {
     "name": "stdout",
     "output_type": "stream",
     "text": [
      "Hyperparameter Optimization....\n",
      "########## KNN ##########\n",
      "RMSE: 0.458456 (KNN) \n",
      "RMSE (After): 0.458782 (KNN) \n",
      "KNN best params: {'n_neighbors': 4}\n",
      "\n",
      "########## CART ##########\n",
      "RMSE: 0.574489 (CART) \n",
      "RMSE (After): 0.503827 (CART) \n",
      "CART best params: {'max_depth': 9, 'min_samples_split': 23}\n",
      "\n",
      "########## RF ##########\n",
      "RMSE: 0.367489 (RF) \n",
      "RMSE (After): 0.378756 (RF) \n",
      "RF best params: {'max_depth': 15, 'max_features': 'auto', 'min_samples_split': 15, 'n_estimators': 300}\n",
      "\n",
      "########## GBM ##########\n",
      "RMSE: 0.350108 (GBM) \n",
      "RMSE (After): 0.350091 (GBM) \n",
      "GBM best params: {'learning_rate': 0.1, 'max_depth': 3, 'n_estimators': 500, 'subsample': 0.5}\n",
      "\n",
      "########## XGBoost ##########\n",
      "RMSE: 0.37011 (XGBoost) \n",
      "RMSE (After): 0.349947 (XGBoost) \n",
      "XGBoost best params: {'colsample_bytree': 0.5, 'learning_rate': 0.1, 'max_depth': 5, 'n_estimators': 200}\n",
      "\n",
      "########## LightGBM ##########\n",
      "RMSE: 0.369861 (LightGBM) \n",
      "RMSE (After): 0.349933 (LightGBM) \n",
      "LightGBM best params: {'colsample_bytree': 0.5, 'learning_rate': 0.02, 'n_estimators': 300}\n",
      "\n"
     ]
    }
   ],
   "source": [
    "best_models = hyperparameter_optimization(X_train, y_train)"
   ]
  },
  {
   "cell_type": "code",
   "execution_count": null,
   "id": "42b3789e",
   "metadata": {
    "papermill": {
     "duration": 0.027022,
     "end_time": "2022-11-21T21:51:13.328051",
     "exception": false,
     "start_time": "2022-11-21T21:51:13.301029",
     "status": "completed"
    },
    "tags": []
   },
   "outputs": [],
   "source": []
  }
 ],
 "metadata": {
  "kernelspec": {
   "display_name": "Python 3",
   "language": "python",
   "name": "python3"
  },
  "language_info": {
   "codemirror_mode": {
    "name": "ipython",
    "version": 3
   },
   "file_extension": ".py",
   "mimetype": "text/x-python",
   "name": "python",
   "nbconvert_exporter": "python",
   "pygments_lexer": "ipython3",
   "version": "3.7.12"
  },
  "papermill": {
   "default_parameters": {},
   "duration": 589.306932,
   "end_time": "2022-11-21T21:51:15.977263",
   "environment_variables": {},
   "exception": null,
   "input_path": "__notebook__.ipynb",
   "output_path": "__notebook__.ipynb",
   "parameters": {},
   "start_time": "2022-11-21T21:41:26.670331",
   "version": "2.3.4"
  }
 },
 "nbformat": 4,
 "nbformat_minor": 5
}
